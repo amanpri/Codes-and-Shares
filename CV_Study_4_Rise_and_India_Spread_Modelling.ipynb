{
 "cells": [
  {
   "cell_type": "markdown",
   "metadata": {},
   "source": [
    "# Corona Virus Study 4 ; Spread in India and Rise modelled : Compare with EU\n",
    "\n"
   ]
  },
  {
   "cell_type": "markdown",
   "metadata": {},
   "source": [
    "##  Import Libraries "
   ]
  },
  {
   "cell_type": "code",
   "execution_count": 1,
   "metadata": {
    "_kg_hide-input": true,
    "_kg_hide-output": true
   },
   "outputs": [],
   "source": [
    "# import the necessary Core  libraries\n",
    "import numpy as np \n",
    "import pandas as pd \n",
    "import os"
   ]
  },
  {
   "cell_type": "code",
   "execution_count": 2,
   "metadata": {},
   "outputs": [],
   "source": [
    "# One time installs \n",
    "#!pip install pycountry\n",
    "#!pip install pywaffle\n",
    "#!pip install folium"
   ]
  },
  {
   "cell_type": "code",
   "execution_count": 3,
   "metadata": {},
   "outputs": [
    {
     "data": {
      "text/html": [
       "        <script type=\"text/javascript\">\n",
       "        window.PlotlyConfig = {MathJaxConfig: 'local'};\n",
       "        if (window.MathJax) {MathJax.Hub.Config({SVG: {font: \"STIX-Web\"}});}\n",
       "        if (typeof require !== 'undefined') {\n",
       "        require.undef(\"plotly\");\n",
       "        requirejs.config({\n",
       "            paths: {\n",
       "                'plotly': ['https://cdn.plot.ly/plotly-latest.min']\n",
       "            }\n",
       "        });\n",
       "        require(['plotly'], function(Plotly) {\n",
       "            window._Plotly = Plotly;\n",
       "        });\n",
       "        }\n",
       "        </script>\n",
       "        "
      ]
     },
     "metadata": {},
     "output_type": "display_data"
    }
   ],
   "source": [
    "# Import Visualisation libraries\n",
    "import matplotlib.pyplot as plt\n",
    "%matplotlib inline\n",
    "import plotly\n",
    "import seaborn as sns\n",
    "sns.set()\n",
    "import pycountry\n",
    "import plotly.express as px\n",
    "from plotly.offline import init_notebook_mode, iplot \n",
    "import plotly.graph_objs as go\n",
    "import plotly.offline as py\n",
    "\n",
    "from pywaffle import Waffle\n",
    "\n",
    "py.init_notebook_mode(connected=True)\n",
    "import folium \n",
    "from folium import plugins\n",
    "plt.style.use(\"fivethirtyeight\")# for pretty graphs\n",
    "\n",
    "# Increase the default plot size and set the color scheme\n",
    "plt.rcParams['figure.figsize'] = 8, 5\n",
    "#plt.rcParams['image.cmap'] = 'viridis'\n",
    "from plotly.offline import download_plotlyjs,init_notebook_mode,plot,iplot"
   ]
  },
  {
   "cell_type": "markdown",
   "metadata": {},
   "source": [
    "##  Read Input files \n",
    "\n"
   ]
  },
  {
   "cell_type": "code",
   "execution_count": 4,
   "metadata": {
    "_kg_hide-input": true,
    "_kg_hide-output": true
   },
   "outputs": [],
   "source": [
    "#Day by day data All countries \n",
    "#--------------------------------\n",
    "# confirmed cases\n",
    "df_confirmed = pd.read_csv('time_series_covid19_confirmed_global.csv')\n",
    "df_conf1 = df_confirmed.copy()\n",
    "# recovered \n",
    "df_recovered = pd.read_csv('time_series_covid19_recovered_global.csv')\n",
    "df_recov1 = df_recovered.copy()\n",
    "# deaths \n",
    "df_deaths    = pd.read_csv('time_series_covid19_deaths_global.csv')\n",
    "df_deaths1 = df_deaths.copy()"
   ]
  },
  {
   "cell_type": "markdown",
   "metadata": {},
   "source": [
    "## Pre Process Confirmed cases "
   ]
  },
  {
   "cell_type": "code",
   "execution_count": 5,
   "metadata": {},
   "outputs": [
    {
     "data": {
      "text/html": [
       "<div>\n",
       "<style scoped>\n",
       "    .dataframe tbody tr th:only-of-type {\n",
       "        vertical-align: middle;\n",
       "    }\n",
       "\n",
       "    .dataframe tbody tr th {\n",
       "        vertical-align: top;\n",
       "    }\n",
       "\n",
       "    .dataframe thead th {\n",
       "        text-align: right;\n",
       "    }\n",
       "</style>\n",
       "<table border=\"1\" class=\"dataframe\">\n",
       "  <thead>\n",
       "    <tr style=\"text-align: right;\">\n",
       "      <th></th>\n",
       "      <th>Province/State</th>\n",
       "      <th>Country/Region</th>\n",
       "      <th>Lat</th>\n",
       "      <th>Long</th>\n",
       "      <th>1/22/20</th>\n",
       "      <th>1/23/20</th>\n",
       "      <th>1/24/20</th>\n",
       "      <th>1/25/20</th>\n",
       "      <th>1/26/20</th>\n",
       "      <th>1/27/20</th>\n",
       "      <th>...</th>\n",
       "      <th>3/16/20</th>\n",
       "      <th>3/17/20</th>\n",
       "      <th>3/18/20</th>\n",
       "      <th>3/19/20</th>\n",
       "      <th>3/20/20</th>\n",
       "      <th>3/21/20</th>\n",
       "      <th>3/22/20</th>\n",
       "      <th>3/23/20</th>\n",
       "      <th>3/24/20</th>\n",
       "      <th>3/25/20</th>\n",
       "    </tr>\n",
       "  </thead>\n",
       "  <tbody>\n",
       "    <tr>\n",
       "      <th>0</th>\n",
       "      <td>NaN</td>\n",
       "      <td>Afghanistan</td>\n",
       "      <td>33.0000</td>\n",
       "      <td>65.0000</td>\n",
       "      <td>0</td>\n",
       "      <td>0</td>\n",
       "      <td>0</td>\n",
       "      <td>0</td>\n",
       "      <td>0</td>\n",
       "      <td>0</td>\n",
       "      <td>...</td>\n",
       "      <td>21</td>\n",
       "      <td>22</td>\n",
       "      <td>22</td>\n",
       "      <td>22</td>\n",
       "      <td>24</td>\n",
       "      <td>24</td>\n",
       "      <td>40</td>\n",
       "      <td>40</td>\n",
       "      <td>74</td>\n",
       "      <td>84</td>\n",
       "    </tr>\n",
       "    <tr>\n",
       "      <th>1</th>\n",
       "      <td>NaN</td>\n",
       "      <td>Albania</td>\n",
       "      <td>41.1533</td>\n",
       "      <td>20.1683</td>\n",
       "      <td>0</td>\n",
       "      <td>0</td>\n",
       "      <td>0</td>\n",
       "      <td>0</td>\n",
       "      <td>0</td>\n",
       "      <td>0</td>\n",
       "      <td>...</td>\n",
       "      <td>51</td>\n",
       "      <td>55</td>\n",
       "      <td>59</td>\n",
       "      <td>64</td>\n",
       "      <td>70</td>\n",
       "      <td>76</td>\n",
       "      <td>89</td>\n",
       "      <td>104</td>\n",
       "      <td>123</td>\n",
       "      <td>146</td>\n",
       "    </tr>\n",
       "    <tr>\n",
       "      <th>2</th>\n",
       "      <td>NaN</td>\n",
       "      <td>Algeria</td>\n",
       "      <td>28.0339</td>\n",
       "      <td>1.6596</td>\n",
       "      <td>0</td>\n",
       "      <td>0</td>\n",
       "      <td>0</td>\n",
       "      <td>0</td>\n",
       "      <td>0</td>\n",
       "      <td>0</td>\n",
       "      <td>...</td>\n",
       "      <td>54</td>\n",
       "      <td>60</td>\n",
       "      <td>74</td>\n",
       "      <td>87</td>\n",
       "      <td>90</td>\n",
       "      <td>139</td>\n",
       "      <td>201</td>\n",
       "      <td>230</td>\n",
       "      <td>264</td>\n",
       "      <td>302</td>\n",
       "    </tr>\n",
       "    <tr>\n",
       "      <th>3</th>\n",
       "      <td>NaN</td>\n",
       "      <td>Andorra</td>\n",
       "      <td>42.5063</td>\n",
       "      <td>1.5218</td>\n",
       "      <td>0</td>\n",
       "      <td>0</td>\n",
       "      <td>0</td>\n",
       "      <td>0</td>\n",
       "      <td>0</td>\n",
       "      <td>0</td>\n",
       "      <td>...</td>\n",
       "      <td>2</td>\n",
       "      <td>39</td>\n",
       "      <td>39</td>\n",
       "      <td>53</td>\n",
       "      <td>75</td>\n",
       "      <td>88</td>\n",
       "      <td>113</td>\n",
       "      <td>133</td>\n",
       "      <td>164</td>\n",
       "      <td>188</td>\n",
       "    </tr>\n",
       "    <tr>\n",
       "      <th>4</th>\n",
       "      <td>NaN</td>\n",
       "      <td>Angola</td>\n",
       "      <td>-11.2027</td>\n",
       "      <td>17.8739</td>\n",
       "      <td>0</td>\n",
       "      <td>0</td>\n",
       "      <td>0</td>\n",
       "      <td>0</td>\n",
       "      <td>0</td>\n",
       "      <td>0</td>\n",
       "      <td>...</td>\n",
       "      <td>0</td>\n",
       "      <td>0</td>\n",
       "      <td>0</td>\n",
       "      <td>0</td>\n",
       "      <td>1</td>\n",
       "      <td>2</td>\n",
       "      <td>2</td>\n",
       "      <td>3</td>\n",
       "      <td>3</td>\n",
       "      <td>3</td>\n",
       "    </tr>\n",
       "  </tbody>\n",
       "</table>\n",
       "<p>5 rows × 68 columns</p>\n",
       "</div>"
      ],
      "text/plain": [
       "  Province/State Country/Region      Lat     Long  1/22/20  1/23/20  1/24/20  \\\n",
       "0            NaN    Afghanistan  33.0000  65.0000        0        0        0   \n",
       "1            NaN        Albania  41.1533  20.1683        0        0        0   \n",
       "2            NaN        Algeria  28.0339   1.6596        0        0        0   \n",
       "3            NaN        Andorra  42.5063   1.5218        0        0        0   \n",
       "4            NaN         Angola -11.2027  17.8739        0        0        0   \n",
       "\n",
       "   1/25/20  1/26/20  1/27/20  ...  3/16/20  3/17/20  3/18/20  3/19/20  \\\n",
       "0        0        0        0  ...       21       22       22       22   \n",
       "1        0        0        0  ...       51       55       59       64   \n",
       "2        0        0        0  ...       54       60       74       87   \n",
       "3        0        0        0  ...        2       39       39       53   \n",
       "4        0        0        0  ...        0        0        0        0   \n",
       "\n",
       "   3/20/20  3/21/20  3/22/20  3/23/20  3/24/20  3/25/20  \n",
       "0       24       24       40       40       74       84  \n",
       "1       70       76       89      104      123      146  \n",
       "2       90      139      201      230      264      302  \n",
       "3       75       88      113      133      164      188  \n",
       "4        1        2        2        3        3        3  \n",
       "\n",
       "[5 rows x 68 columns]"
      ]
     },
     "execution_count": 5,
     "metadata": {},
     "output_type": "execute_result"
    }
   ],
   "source": [
    "# Check data \n",
    "df_confirmed.head()"
   ]
  },
  {
   "cell_type": "code",
   "execution_count": 6,
   "metadata": {},
   "outputs": [
    {
     "data": {
      "text/plain": [
       "Index(['Province/State', 'Country/Region', 'Lat', 'Long', '1/22/20', '1/23/20',\n",
       "       '1/24/20', '1/25/20', '1/26/20', '1/27/20', '1/28/20', '1/29/20',\n",
       "       '1/30/20', '1/31/20', '2/1/20', '2/2/20', '2/3/20', '2/4/20', '2/5/20',\n",
       "       '2/6/20', '2/7/20', '2/8/20', '2/9/20', '2/10/20', '2/11/20', '2/12/20',\n",
       "       '2/13/20', '2/14/20', '2/15/20', '2/16/20', '2/17/20', '2/18/20',\n",
       "       '2/19/20', '2/20/20', '2/21/20', '2/22/20', '2/23/20', '2/24/20',\n",
       "       '2/25/20', '2/26/20', '2/27/20', '2/28/20', '2/29/20', '3/1/20',\n",
       "       '3/2/20', '3/3/20', '3/4/20', '3/5/20', '3/6/20', '3/7/20', '3/8/20',\n",
       "       '3/9/20', '3/10/20', '3/11/20', '3/12/20', '3/13/20', '3/14/20',\n",
       "       '3/15/20', '3/16/20', '3/17/20', '3/18/20', '3/19/20', '3/20/20',\n",
       "       '3/21/20', '3/22/20', '3/23/20', '3/24/20', '3/25/20'],\n",
       "      dtype='object')"
      ]
     },
     "execution_count": 6,
     "metadata": {},
     "output_type": "execute_result"
    }
   ],
   "source": [
    "# Get column names \n",
    "df_confirmed.columns"
   ]
  },
  {
   "cell_type": "code",
   "execution_count": 7,
   "metadata": {},
   "outputs": [],
   "source": [
    "# Drop columns not needed for this Analysis  \n",
    "df_confirmed.drop(['Province/State','Lat','Long'],axis=1,inplace=True)\n",
    "\n",
    "# Rename to shorter column names \n",
    "df_confirmed.rename(columns= {'Country/Region':'Region'},inplace= True)"
   ]
  },
  {
   "cell_type": "code",
   "execution_count": 8,
   "metadata": {},
   "outputs": [
    {
     "data": {
      "text/plain": [
       "Index(['Region', '1/22/20', '1/23/20', '1/24/20', '1/25/20', '1/26/20',\n",
       "       '1/27/20', '1/28/20', '1/29/20', '1/30/20', '1/31/20', '2/1/20',\n",
       "       '2/2/20', '2/3/20', '2/4/20', '2/5/20', '2/6/20', '2/7/20', '2/8/20',\n",
       "       '2/9/20', '2/10/20', '2/11/20', '2/12/20', '2/13/20', '2/14/20',\n",
       "       '2/15/20', '2/16/20', '2/17/20', '2/18/20', '2/19/20', '2/20/20',\n",
       "       '2/21/20', '2/22/20', '2/23/20', '2/24/20', '2/25/20', '2/26/20',\n",
       "       '2/27/20', '2/28/20', '2/29/20', '3/1/20', '3/2/20', '3/3/20', '3/4/20',\n",
       "       '3/5/20', '3/6/20', '3/7/20', '3/8/20', '3/9/20', '3/10/20', '3/11/20',\n",
       "       '3/12/20', '3/13/20', '3/14/20', '3/15/20', '3/16/20', '3/17/20',\n",
       "       '3/18/20', '3/19/20', '3/20/20', '3/21/20', '3/22/20', '3/23/20',\n",
       "       '3/24/20', '3/25/20'],\n",
       "      dtype='object')"
      ]
     },
     "execution_count": 8,
     "metadata": {},
     "output_type": "execute_result"
    }
   ],
   "source": [
    "# Check DF after drop and rename \n",
    "df_confirmed.columns"
   ]
  },
  {
   "cell_type": "code",
   "execution_count": 9,
   "metadata": {
    "_kg_hide-input": true
   },
   "outputs": [
    {
     "data": {
      "text/html": [
       "<div>\n",
       "<style scoped>\n",
       "    .dataframe tbody tr th:only-of-type {\n",
       "        vertical-align: middle;\n",
       "    }\n",
       "\n",
       "    .dataframe tbody tr th {\n",
       "        vertical-align: top;\n",
       "    }\n",
       "\n",
       "    .dataframe thead th {\n",
       "        text-align: right;\n",
       "    }\n",
       "</style>\n",
       "<table border=\"1\" class=\"dataframe\">\n",
       "  <thead>\n",
       "    <tr style=\"text-align: right;\">\n",
       "      <th></th>\n",
       "      <th>131</th>\n",
       "      <th>133</th>\n",
       "      <th>137</th>\n",
       "      <th>143</th>\n",
       "      <th>201</th>\n",
       "    </tr>\n",
       "  </thead>\n",
       "  <tbody>\n",
       "    <tr>\n",
       "      <th>Region</th>\n",
       "      <td>India</td>\n",
       "      <td>Iran</td>\n",
       "      <td>Italy</td>\n",
       "      <td>Korea, South</td>\n",
       "      <td>Spain</td>\n",
       "    </tr>\n",
       "    <tr>\n",
       "      <th>1/22/20</th>\n",
       "      <td>0</td>\n",
       "      <td>0</td>\n",
       "      <td>0</td>\n",
       "      <td>1</td>\n",
       "      <td>0</td>\n",
       "    </tr>\n",
       "    <tr>\n",
       "      <th>1/23/20</th>\n",
       "      <td>0</td>\n",
       "      <td>0</td>\n",
       "      <td>0</td>\n",
       "      <td>1</td>\n",
       "      <td>0</td>\n",
       "    </tr>\n",
       "    <tr>\n",
       "      <th>1/24/20</th>\n",
       "      <td>0</td>\n",
       "      <td>0</td>\n",
       "      <td>0</td>\n",
       "      <td>2</td>\n",
       "      <td>0</td>\n",
       "    </tr>\n",
       "    <tr>\n",
       "      <th>1/25/20</th>\n",
       "      <td>0</td>\n",
       "      <td>0</td>\n",
       "      <td>0</td>\n",
       "      <td>2</td>\n",
       "      <td>0</td>\n",
       "    </tr>\n",
       "  </tbody>\n",
       "</table>\n",
       "</div>"
      ],
      "text/plain": [
       "           131   133    137           143    201\n",
       "Region   India  Iran  Italy  Korea, South  Spain\n",
       "1/22/20      0     0      0             1      0\n",
       "1/23/20      0     0      0             1      0\n",
       "1/24/20      0     0      0             2      0\n",
       "1/25/20      0     0      0             2      0"
      ]
     },
     "execution_count": 9,
     "metadata": {},
     "output_type": "execute_result"
    }
   ],
   "source": [
    "# Create Listof countries to Analyse\n",
    "plot_countries = ['India','Iran','Italy','Korea, South','Spain']\n",
    "\n",
    "# subset by countries to plot \n",
    "df_conf_plot= df_confirmed[df_confirmed.Region.isin(plot_countries)]\n",
    "\n",
    "# Transpose df\n",
    "df_conf_plot_T = df_conf_plot.T\n",
    "\n",
    "# Check Actual Col Names \n",
    "df_conf_plot_T.head()"
   ]
  },
  {
   "cell_type": "code",
   "execution_count": 10,
   "metadata": {},
   "outputs": [
    {
     "data": {
      "text/html": [
       "<div>\n",
       "<style scoped>\n",
       "    .dataframe tbody tr th:only-of-type {\n",
       "        vertical-align: middle;\n",
       "    }\n",
       "\n",
       "    .dataframe tbody tr th {\n",
       "        vertical-align: top;\n",
       "    }\n",
       "\n",
       "    .dataframe thead th {\n",
       "        text-align: right;\n",
       "    }\n",
       "</style>\n",
       "<table border=\"1\" class=\"dataframe\">\n",
       "  <thead>\n",
       "    <tr style=\"text-align: right;\">\n",
       "      <th></th>\n",
       "      <th>India</th>\n",
       "      <th>Iran</th>\n",
       "      <th>Italy</th>\n",
       "      <th>Korea, South</th>\n",
       "      <th>Spain</th>\n",
       "    </tr>\n",
       "    <tr>\n",
       "      <th>DATE</th>\n",
       "      <th></th>\n",
       "      <th></th>\n",
       "      <th></th>\n",
       "      <th></th>\n",
       "      <th></th>\n",
       "    </tr>\n",
       "  </thead>\n",
       "  <tbody>\n",
       "    <tr>\n",
       "      <th>1/22/20</th>\n",
       "      <td>0</td>\n",
       "      <td>0</td>\n",
       "      <td>0</td>\n",
       "      <td>1</td>\n",
       "      <td>0</td>\n",
       "    </tr>\n",
       "    <tr>\n",
       "      <th>1/23/20</th>\n",
       "      <td>0</td>\n",
       "      <td>0</td>\n",
       "      <td>0</td>\n",
       "      <td>1</td>\n",
       "      <td>0</td>\n",
       "    </tr>\n",
       "    <tr>\n",
       "      <th>1/24/20</th>\n",
       "      <td>0</td>\n",
       "      <td>0</td>\n",
       "      <td>0</td>\n",
       "      <td>2</td>\n",
       "      <td>0</td>\n",
       "    </tr>\n",
       "    <tr>\n",
       "      <th>1/25/20</th>\n",
       "      <td>0</td>\n",
       "      <td>0</td>\n",
       "      <td>0</td>\n",
       "      <td>2</td>\n",
       "      <td>0</td>\n",
       "    </tr>\n",
       "    <tr>\n",
       "      <th>1/26/20</th>\n",
       "      <td>0</td>\n",
       "      <td>0</td>\n",
       "      <td>0</td>\n",
       "      <td>3</td>\n",
       "      <td>0</td>\n",
       "    </tr>\n",
       "  </tbody>\n",
       "</table>\n",
       "</div>"
      ],
      "text/plain": [
       "        India Iran Italy Korea, South Spain\n",
       "DATE                                       \n",
       "1/22/20     0    0     0            1     0\n",
       "1/23/20     0    0     0            1     0\n",
       "1/24/20     0    0     0            2     0\n",
       "1/25/20     0    0     0            2     0\n",
       "1/26/20     0    0     0            3     0"
      ]
     },
     "execution_count": 10,
     "metadata": {},
     "output_type": "execute_result"
    }
   ],
   "source": [
    "# Rename Columns \n",
    "df_conf_plot_T.rename(columns= {131:'India',137:'Italy',133:'Iran',143:'Korea, South',201:'Spain'},inplace= True)\n",
    "\n",
    "# drop first row \n",
    "df_conf_plot_T.drop(df_conf_plot_T.index[0],inplace=True)\n",
    "\n",
    "# name Index \n",
    "df_conf_plot_T.index.name='DATE'\n",
    "\n",
    "# Check \n",
    "df_conf_plot_T.head()"
   ]
  },
  {
   "cell_type": "markdown",
   "metadata": {},
   "source": [
    "## Pre process ; Recovered file "
   ]
  },
  {
   "cell_type": "code",
   "execution_count": 11,
   "metadata": {},
   "outputs": [
    {
     "data": {
      "text/html": [
       "<div>\n",
       "<style scoped>\n",
       "    .dataframe tbody tr th:only-of-type {\n",
       "        vertical-align: middle;\n",
       "    }\n",
       "\n",
       "    .dataframe tbody tr th {\n",
       "        vertical-align: top;\n",
       "    }\n",
       "\n",
       "    .dataframe thead th {\n",
       "        text-align: right;\n",
       "    }\n",
       "</style>\n",
       "<table border=\"1\" class=\"dataframe\">\n",
       "  <thead>\n",
       "    <tr style=\"text-align: right;\">\n",
       "      <th></th>\n",
       "      <th>Province/State</th>\n",
       "      <th>Country/Region</th>\n",
       "      <th>Lat</th>\n",
       "      <th>Long</th>\n",
       "      <th>1/22/2020</th>\n",
       "      <th>1/23/2020</th>\n",
       "      <th>1/24/2020</th>\n",
       "      <th>1/25/2020</th>\n",
       "      <th>1/26/2020</th>\n",
       "      <th>1/27/2020</th>\n",
       "      <th>...</th>\n",
       "      <th>3/15/2020</th>\n",
       "      <th>3/16/2020</th>\n",
       "      <th>3/17/2020</th>\n",
       "      <th>3/18/2020</th>\n",
       "      <th>3/19/2020</th>\n",
       "      <th>3/20/2020</th>\n",
       "      <th>3/21/2020</th>\n",
       "      <th>3/22/2020</th>\n",
       "      <th>3/23/2020</th>\n",
       "      <th>3/24/2020</th>\n",
       "    </tr>\n",
       "  </thead>\n",
       "  <tbody>\n",
       "    <tr>\n",
       "      <th>0</th>\n",
       "      <td>NaN</td>\n",
       "      <td>Afghanistan</td>\n",
       "      <td>33.0000</td>\n",
       "      <td>65.0000</td>\n",
       "      <td>0</td>\n",
       "      <td>0</td>\n",
       "      <td>0</td>\n",
       "      <td>0</td>\n",
       "      <td>0</td>\n",
       "      <td>0</td>\n",
       "      <td>...</td>\n",
       "      <td>0</td>\n",
       "      <td>1</td>\n",
       "      <td>1</td>\n",
       "      <td>1</td>\n",
       "      <td>1</td>\n",
       "      <td>1</td>\n",
       "      <td>1</td>\n",
       "      <td>1</td>\n",
       "      <td>1</td>\n",
       "      <td>1</td>\n",
       "    </tr>\n",
       "    <tr>\n",
       "      <th>1</th>\n",
       "      <td>NaN</td>\n",
       "      <td>Albania</td>\n",
       "      <td>41.1533</td>\n",
       "      <td>20.1683</td>\n",
       "      <td>0</td>\n",
       "      <td>0</td>\n",
       "      <td>0</td>\n",
       "      <td>0</td>\n",
       "      <td>0</td>\n",
       "      <td>0</td>\n",
       "      <td>...</td>\n",
       "      <td>0</td>\n",
       "      <td>0</td>\n",
       "      <td>0</td>\n",
       "      <td>0</td>\n",
       "      <td>0</td>\n",
       "      <td>0</td>\n",
       "      <td>2</td>\n",
       "      <td>2</td>\n",
       "      <td>2</td>\n",
       "      <td>10</td>\n",
       "    </tr>\n",
       "    <tr>\n",
       "      <th>2</th>\n",
       "      <td>NaN</td>\n",
       "      <td>Algeria</td>\n",
       "      <td>28.0339</td>\n",
       "      <td>1.6596</td>\n",
       "      <td>0</td>\n",
       "      <td>0</td>\n",
       "      <td>0</td>\n",
       "      <td>0</td>\n",
       "      <td>0</td>\n",
       "      <td>0</td>\n",
       "      <td>...</td>\n",
       "      <td>12</td>\n",
       "      <td>12</td>\n",
       "      <td>12</td>\n",
       "      <td>12</td>\n",
       "      <td>32</td>\n",
       "      <td>32</td>\n",
       "      <td>32</td>\n",
       "      <td>65</td>\n",
       "      <td>65</td>\n",
       "      <td>24</td>\n",
       "    </tr>\n",
       "    <tr>\n",
       "      <th>3</th>\n",
       "      <td>NaN</td>\n",
       "      <td>Andorra</td>\n",
       "      <td>42.5063</td>\n",
       "      <td>1.5218</td>\n",
       "      <td>0</td>\n",
       "      <td>0</td>\n",
       "      <td>0</td>\n",
       "      <td>0</td>\n",
       "      <td>0</td>\n",
       "      <td>0</td>\n",
       "      <td>...</td>\n",
       "      <td>1</td>\n",
       "      <td>1</td>\n",
       "      <td>1</td>\n",
       "      <td>1</td>\n",
       "      <td>1</td>\n",
       "      <td>1</td>\n",
       "      <td>1</td>\n",
       "      <td>1</td>\n",
       "      <td>1</td>\n",
       "      <td>1</td>\n",
       "    </tr>\n",
       "    <tr>\n",
       "      <th>4</th>\n",
       "      <td>NaN</td>\n",
       "      <td>Angola</td>\n",
       "      <td>-11.2027</td>\n",
       "      <td>17.8739</td>\n",
       "      <td>0</td>\n",
       "      <td>0</td>\n",
       "      <td>0</td>\n",
       "      <td>0</td>\n",
       "      <td>0</td>\n",
       "      <td>0</td>\n",
       "      <td>...</td>\n",
       "      <td>0</td>\n",
       "      <td>0</td>\n",
       "      <td>0</td>\n",
       "      <td>0</td>\n",
       "      <td>0</td>\n",
       "      <td>0</td>\n",
       "      <td>0</td>\n",
       "      <td>0</td>\n",
       "      <td>0</td>\n",
       "      <td>0</td>\n",
       "    </tr>\n",
       "  </tbody>\n",
       "</table>\n",
       "<p>5 rows × 67 columns</p>\n",
       "</div>"
      ],
      "text/plain": [
       "  Province/State Country/Region      Lat     Long  1/22/2020  1/23/2020  \\\n",
       "0            NaN    Afghanistan  33.0000  65.0000          0          0   \n",
       "1            NaN        Albania  41.1533  20.1683          0          0   \n",
       "2            NaN        Algeria  28.0339   1.6596          0          0   \n",
       "3            NaN        Andorra  42.5063   1.5218          0          0   \n",
       "4            NaN         Angola -11.2027  17.8739          0          0   \n",
       "\n",
       "   1/24/2020  1/25/2020  1/26/2020  1/27/2020  ...  3/15/2020  3/16/2020  \\\n",
       "0          0          0          0          0  ...          0          1   \n",
       "1          0          0          0          0  ...          0          0   \n",
       "2          0          0          0          0  ...         12         12   \n",
       "3          0          0          0          0  ...          1          1   \n",
       "4          0          0          0          0  ...          0          0   \n",
       "\n",
       "   3/17/2020  3/18/2020  3/19/2020  3/20/2020  3/21/2020  3/22/2020  \\\n",
       "0          1          1          1          1          1          1   \n",
       "1          0          0          0          0          2          2   \n",
       "2         12         12         32         32         32         65   \n",
       "3          1          1          1          1          1          1   \n",
       "4          0          0          0          0          0          0   \n",
       "\n",
       "   3/23/2020  3/24/2020  \n",
       "0          1          1  \n",
       "1          2         10  \n",
       "2         65         24  \n",
       "3          1          1  \n",
       "4          0          0  \n",
       "\n",
       "[5 rows x 67 columns]"
      ]
     },
     "execution_count": 11,
     "metadata": {},
     "output_type": "execute_result"
    }
   ],
   "source": [
    "# Check data \n",
    "df_recovered.head()"
   ]
  },
  {
   "cell_type": "code",
   "execution_count": 12,
   "metadata": {},
   "outputs": [
    {
     "data": {
      "text/plain": [
       "Index(['Province/State', 'Country/Region', 'Lat', 'Long', '1/22/2020',\n",
       "       '1/23/2020', '1/24/2020', '1/25/2020', '1/26/2020', '1/27/2020',\n",
       "       '1/28/2020', '1/29/2020', '1/30/2020', '1/31/2020', '2/1/2020',\n",
       "       '2/2/2020', '2/3/2020', '2/4/2020', '2/5/2020', '2/6/2020', '2/7/2020',\n",
       "       '2/8/2020', '2/9/2020', '2/10/2020', '2/11/2020', '2/12/2020',\n",
       "       '2/13/2020', '2/14/2020', '2/15/2020', '2/16/2020', '2/17/2020',\n",
       "       '2/18/2020', '2/19/2020', '2/20/2020', '2/21/2020', '2/22/2020',\n",
       "       '2/23/2020', '2/24/2020', '2/25/2020', '2/26/2020', '2/27/2020',\n",
       "       '2/28/2020', '2/29/2020', '3/1/2020', '3/2/2020', '3/3/2020',\n",
       "       '3/4/2020', '3/5/2020', '3/6/2020', '3/7/2020', '3/8/2020', '3/9/2020',\n",
       "       '3/10/2020', '3/11/2020', '3/12/2020', '3/13/2020', '3/14/2020',\n",
       "       '3/15/2020', '3/16/2020', '3/17/2020', '3/18/2020', '3/19/2020',\n",
       "       '3/20/2020', '3/21/2020', '3/22/2020', '3/23/2020', '3/24/2020'],\n",
       "      dtype='object')"
      ]
     },
     "execution_count": 12,
     "metadata": {},
     "output_type": "execute_result"
    }
   ],
   "source": [
    "# Get column names \n",
    "df_recovered.columns"
   ]
  },
  {
   "cell_type": "code",
   "execution_count": 13,
   "metadata": {},
   "outputs": [],
   "source": [
    "# Drop columns not needed for this Analysis  \n",
    "df_recovered.drop(['Province/State','Lat','Long'],axis=1,inplace=True)\n",
    "\n",
    "# Rename to shorter column names \n",
    "df_recovered.rename(columns= {'Country/Region':'Region'},inplace= True)\n"
   ]
  },
  {
   "cell_type": "code",
   "execution_count": 14,
   "metadata": {},
   "outputs": [
    {
     "data": {
      "text/plain": [
       "Index(['Region', '1/22/20', '1/23/20', '1/24/20', '1/25/20', '1/26/20',\n",
       "       '1/27/20', '1/28/20', '1/29/20', '1/30/20', '1/31/20', '2/1/20',\n",
       "       '2/2/20', '2/3/20', '2/4/20', '2/5/20', '2/6/20', '2/7/20', '2/8/20',\n",
       "       '2/9/20', '2/10/20', '2/11/20', '2/12/20', '2/13/20', '2/14/20',\n",
       "       '2/15/20', '2/16/20', '2/17/20', '2/18/20', '2/19/20', '2/20/20',\n",
       "       '2/21/20', '2/22/20', '2/23/20', '2/24/20', '2/25/20', '2/26/20',\n",
       "       '2/27/20', '2/28/20', '2/29/20', '3/1/20', '3/2/20', '3/3/20', '3/4/20',\n",
       "       '3/5/20', '3/6/20', '3/7/20', '3/8/20', '3/9/20', '3/10/20', '3/11/20',\n",
       "       '3/12/20', '3/13/20', '3/14/20', '3/15/20', '3/16/20', '3/17/20',\n",
       "       '3/18/20', '3/19/20', '3/20/20', '3/21/20', '3/22/20', '3/23/20',\n",
       "       '3/24/20', '3/25/20'],\n",
       "      dtype='object')"
      ]
     },
     "execution_count": 14,
     "metadata": {},
     "output_type": "execute_result"
    }
   ],
   "source": [
    "# Check DF after drop and rename \n",
    "df_confirmed.columns"
   ]
  },
  {
   "cell_type": "code",
   "execution_count": 15,
   "metadata": {},
   "outputs": [
    {
     "data": {
      "text/html": [
       "<div>\n",
       "<style scoped>\n",
       "    .dataframe tbody tr th:only-of-type {\n",
       "        vertical-align: middle;\n",
       "    }\n",
       "\n",
       "    .dataframe tbody tr th {\n",
       "        vertical-align: top;\n",
       "    }\n",
       "\n",
       "    .dataframe thead th {\n",
       "        text-align: right;\n",
       "    }\n",
       "</style>\n",
       "<table border=\"1\" class=\"dataframe\">\n",
       "  <thead>\n",
       "    <tr style=\"text-align: right;\">\n",
       "      <th></th>\n",
       "      <th>125</th>\n",
       "      <th>127</th>\n",
       "      <th>131</th>\n",
       "      <th>137</th>\n",
       "      <th>199</th>\n",
       "    </tr>\n",
       "  </thead>\n",
       "  <tbody>\n",
       "    <tr>\n",
       "      <th>Region</th>\n",
       "      <td>India</td>\n",
       "      <td>Iran</td>\n",
       "      <td>Italy</td>\n",
       "      <td>Korea, South</td>\n",
       "      <td>Spain</td>\n",
       "    </tr>\n",
       "    <tr>\n",
       "      <th>1/22/2020</th>\n",
       "      <td>0</td>\n",
       "      <td>0</td>\n",
       "      <td>0</td>\n",
       "      <td>0</td>\n",
       "      <td>0</td>\n",
       "    </tr>\n",
       "    <tr>\n",
       "      <th>1/23/2020</th>\n",
       "      <td>0</td>\n",
       "      <td>0</td>\n",
       "      <td>0</td>\n",
       "      <td>0</td>\n",
       "      <td>0</td>\n",
       "    </tr>\n",
       "    <tr>\n",
       "      <th>1/24/2020</th>\n",
       "      <td>0</td>\n",
       "      <td>0</td>\n",
       "      <td>0</td>\n",
       "      <td>0</td>\n",
       "      <td>0</td>\n",
       "    </tr>\n",
       "    <tr>\n",
       "      <th>1/25/2020</th>\n",
       "      <td>0</td>\n",
       "      <td>0</td>\n",
       "      <td>0</td>\n",
       "      <td>0</td>\n",
       "      <td>0</td>\n",
       "    </tr>\n",
       "  </tbody>\n",
       "</table>\n",
       "</div>"
      ],
      "text/plain": [
       "             125   127    131           137    199\n",
       "Region     India  Iran  Italy  Korea, South  Spain\n",
       "1/22/2020      0     0      0             0      0\n",
       "1/23/2020      0     0      0             0      0\n",
       "1/24/2020      0     0      0             0      0\n",
       "1/25/2020      0     0      0             0      0"
      ]
     },
     "execution_count": 15,
     "metadata": {},
     "output_type": "execute_result"
    }
   ],
   "source": [
    "# subset by countries to plot \n",
    "df_recov_plot= df_recovered[df_recovered.Region.isin(plot_countries)]\n",
    "\n",
    "# Transpose df\n",
    "df_recov_plot_T = df_recov_plot.T\n",
    "\n",
    "# Check Actual Col Names \n",
    "df_recov_plot_T.head()"
   ]
  },
  {
   "cell_type": "code",
   "execution_count": 16,
   "metadata": {},
   "outputs": [
    {
     "data": {
      "text/html": [
       "<div>\n",
       "<style scoped>\n",
       "    .dataframe tbody tr th:only-of-type {\n",
       "        vertical-align: middle;\n",
       "    }\n",
       "\n",
       "    .dataframe tbody tr th {\n",
       "        vertical-align: top;\n",
       "    }\n",
       "\n",
       "    .dataframe thead th {\n",
       "        text-align: right;\n",
       "    }\n",
       "</style>\n",
       "<table border=\"1\" class=\"dataframe\">\n",
       "  <thead>\n",
       "    <tr style=\"text-align: right;\">\n",
       "      <th></th>\n",
       "      <th>125</th>\n",
       "      <th>127</th>\n",
       "      <th>131</th>\n",
       "      <th>137</th>\n",
       "      <th>199</th>\n",
       "    </tr>\n",
       "  </thead>\n",
       "  <tbody>\n",
       "    <tr>\n",
       "      <th>Region</th>\n",
       "      <td>India</td>\n",
       "      <td>Iran</td>\n",
       "      <td>Italy</td>\n",
       "      <td>Korea, South</td>\n",
       "      <td>Spain</td>\n",
       "    </tr>\n",
       "    <tr>\n",
       "      <th>1/22/2020</th>\n",
       "      <td>0</td>\n",
       "      <td>0</td>\n",
       "      <td>0</td>\n",
       "      <td>0</td>\n",
       "      <td>0</td>\n",
       "    </tr>\n",
       "    <tr>\n",
       "      <th>1/23/2020</th>\n",
       "      <td>0</td>\n",
       "      <td>0</td>\n",
       "      <td>0</td>\n",
       "      <td>0</td>\n",
       "      <td>0</td>\n",
       "    </tr>\n",
       "    <tr>\n",
       "      <th>1/24/2020</th>\n",
       "      <td>0</td>\n",
       "      <td>0</td>\n",
       "      <td>0</td>\n",
       "      <td>0</td>\n",
       "      <td>0</td>\n",
       "    </tr>\n",
       "    <tr>\n",
       "      <th>1/25/2020</th>\n",
       "      <td>0</td>\n",
       "      <td>0</td>\n",
       "      <td>0</td>\n",
       "      <td>0</td>\n",
       "      <td>0</td>\n",
       "    </tr>\n",
       "  </tbody>\n",
       "</table>\n",
       "</div>"
      ],
      "text/plain": [
       "             125   127    131           137    199\n",
       "Region     India  Iran  Italy  Korea, South  Spain\n",
       "1/22/2020      0     0      0             0      0\n",
       "1/23/2020      0     0      0             0      0\n",
       "1/24/2020      0     0      0             0      0\n",
       "1/25/2020      0     0      0             0      0"
      ]
     },
     "execution_count": 16,
     "metadata": {},
     "output_type": "execute_result"
    }
   ],
   "source": [
    "# Rename Columns \n",
    "#df_recov_plot_T.rename(columns= {125:'India',131:'Italy',127:'Iran',137:'Korea, South',199:'Spain'},inplace= True)\n",
    "\n",
    "# drop first row \n",
    "#df_recov_plot_T.drop(df_conf_plot_T.index[0],inplace=True)\n",
    "\n",
    "# name Index \n",
    "#df_recov_plot_T.index.name='DATE'\n",
    "\n",
    "# Check \n",
    "df_recov_plot_T.head()"
   ]
  },
  {
   "cell_type": "code",
   "execution_count": 17,
   "metadata": {},
   "outputs": [
    {
     "data": {
      "text/html": [
       "<div>\n",
       "<style scoped>\n",
       "    .dataframe tbody tr th:only-of-type {\n",
       "        vertical-align: middle;\n",
       "    }\n",
       "\n",
       "    .dataframe tbody tr th {\n",
       "        vertical-align: top;\n",
       "    }\n",
       "\n",
       "    .dataframe thead th {\n",
       "        text-align: right;\n",
       "    }\n",
       "</style>\n",
       "<table border=\"1\" class=\"dataframe\">\n",
       "  <thead>\n",
       "    <tr style=\"text-align: right;\">\n",
       "      <th></th>\n",
       "      <th>125</th>\n",
       "      <th>127</th>\n",
       "      <th>131</th>\n",
       "      <th>137</th>\n",
       "      <th>199</th>\n",
       "    </tr>\n",
       "  </thead>\n",
       "  <tbody>\n",
       "    <tr>\n",
       "      <th>1/22/2020</th>\n",
       "      <td>0</td>\n",
       "      <td>0</td>\n",
       "      <td>0</td>\n",
       "      <td>0</td>\n",
       "      <td>0</td>\n",
       "    </tr>\n",
       "    <tr>\n",
       "      <th>1/23/2020</th>\n",
       "      <td>0</td>\n",
       "      <td>0</td>\n",
       "      <td>0</td>\n",
       "      <td>0</td>\n",
       "      <td>0</td>\n",
       "    </tr>\n",
       "    <tr>\n",
       "      <th>1/24/2020</th>\n",
       "      <td>0</td>\n",
       "      <td>0</td>\n",
       "      <td>0</td>\n",
       "      <td>0</td>\n",
       "      <td>0</td>\n",
       "    </tr>\n",
       "    <tr>\n",
       "      <th>1/25/2020</th>\n",
       "      <td>0</td>\n",
       "      <td>0</td>\n",
       "      <td>0</td>\n",
       "      <td>0</td>\n",
       "      <td>0</td>\n",
       "    </tr>\n",
       "    <tr>\n",
       "      <th>1/26/2020</th>\n",
       "      <td>0</td>\n",
       "      <td>0</td>\n",
       "      <td>0</td>\n",
       "      <td>0</td>\n",
       "      <td>0</td>\n",
       "    </tr>\n",
       "  </tbody>\n",
       "</table>\n",
       "</div>"
      ],
      "text/plain": [
       "          125 127 131 137 199\n",
       "1/22/2020   0   0   0   0   0\n",
       "1/23/2020   0   0   0   0   0\n",
       "1/24/2020   0   0   0   0   0\n",
       "1/25/2020   0   0   0   0   0\n",
       "1/26/2020   0   0   0   0   0"
      ]
     },
     "execution_count": 17,
     "metadata": {},
     "output_type": "execute_result"
    }
   ],
   "source": [
    "df_temp  = df_recov_plot_T.iloc[1:]\n",
    "del(df_recov_plot_T)\n",
    "df_recov_plot_T = df_temp.copy()\n",
    "df_recov_plot_T.head()"
   ]
  },
  {
   "cell_type": "markdown",
   "metadata": {},
   "source": [
    "## Pre process : fatality "
   ]
  },
  {
   "cell_type": "code",
   "execution_count": 18,
   "metadata": {
    "_kg_hide-input": true,
    "_kg_hide-output": false
   },
   "outputs": [
    {
     "data": {
      "text/html": [
       "<div>\n",
       "<style scoped>\n",
       "    .dataframe tbody tr th:only-of-type {\n",
       "        vertical-align: middle;\n",
       "    }\n",
       "\n",
       "    .dataframe tbody tr th {\n",
       "        vertical-align: top;\n",
       "    }\n",
       "\n",
       "    .dataframe thead th {\n",
       "        text-align: right;\n",
       "    }\n",
       "</style>\n",
       "<table border=\"1\" class=\"dataframe\">\n",
       "  <thead>\n",
       "    <tr style=\"text-align: right;\">\n",
       "      <th></th>\n",
       "      <th>Province/State</th>\n",
       "      <th>Country/Region</th>\n",
       "      <th>Lat</th>\n",
       "      <th>Long</th>\n",
       "      <th>1/22/20</th>\n",
       "      <th>1/23/20</th>\n",
       "      <th>1/24/20</th>\n",
       "      <th>1/25/20</th>\n",
       "      <th>1/26/20</th>\n",
       "      <th>1/27/20</th>\n",
       "      <th>...</th>\n",
       "      <th>3/16/20</th>\n",
       "      <th>3/17/20</th>\n",
       "      <th>3/18/20</th>\n",
       "      <th>3/19/20</th>\n",
       "      <th>3/20/20</th>\n",
       "      <th>3/21/20</th>\n",
       "      <th>3/22/20</th>\n",
       "      <th>3/23/20</th>\n",
       "      <th>3/24/20</th>\n",
       "      <th>3/25/20</th>\n",
       "    </tr>\n",
       "  </thead>\n",
       "  <tbody>\n",
       "    <tr>\n",
       "      <th>0</th>\n",
       "      <td>NaN</td>\n",
       "      <td>Afghanistan</td>\n",
       "      <td>33.0000</td>\n",
       "      <td>65.0000</td>\n",
       "      <td>0</td>\n",
       "      <td>0</td>\n",
       "      <td>0</td>\n",
       "      <td>0</td>\n",
       "      <td>0</td>\n",
       "      <td>0</td>\n",
       "      <td>...</td>\n",
       "      <td>0</td>\n",
       "      <td>0</td>\n",
       "      <td>0</td>\n",
       "      <td>0</td>\n",
       "      <td>0</td>\n",
       "      <td>0</td>\n",
       "      <td>1</td>\n",
       "      <td>1</td>\n",
       "      <td>1</td>\n",
       "      <td>2</td>\n",
       "    </tr>\n",
       "    <tr>\n",
       "      <th>1</th>\n",
       "      <td>NaN</td>\n",
       "      <td>Albania</td>\n",
       "      <td>41.1533</td>\n",
       "      <td>20.1683</td>\n",
       "      <td>0</td>\n",
       "      <td>0</td>\n",
       "      <td>0</td>\n",
       "      <td>0</td>\n",
       "      <td>0</td>\n",
       "      <td>0</td>\n",
       "      <td>...</td>\n",
       "      <td>1</td>\n",
       "      <td>1</td>\n",
       "      <td>2</td>\n",
       "      <td>2</td>\n",
       "      <td>2</td>\n",
       "      <td>2</td>\n",
       "      <td>2</td>\n",
       "      <td>4</td>\n",
       "      <td>5</td>\n",
       "      <td>5</td>\n",
       "    </tr>\n",
       "    <tr>\n",
       "      <th>2</th>\n",
       "      <td>NaN</td>\n",
       "      <td>Algeria</td>\n",
       "      <td>28.0339</td>\n",
       "      <td>1.6596</td>\n",
       "      <td>0</td>\n",
       "      <td>0</td>\n",
       "      <td>0</td>\n",
       "      <td>0</td>\n",
       "      <td>0</td>\n",
       "      <td>0</td>\n",
       "      <td>...</td>\n",
       "      <td>4</td>\n",
       "      <td>4</td>\n",
       "      <td>7</td>\n",
       "      <td>9</td>\n",
       "      <td>11</td>\n",
       "      <td>15</td>\n",
       "      <td>17</td>\n",
       "      <td>17</td>\n",
       "      <td>19</td>\n",
       "      <td>21</td>\n",
       "    </tr>\n",
       "    <tr>\n",
       "      <th>3</th>\n",
       "      <td>NaN</td>\n",
       "      <td>Andorra</td>\n",
       "      <td>42.5063</td>\n",
       "      <td>1.5218</td>\n",
       "      <td>0</td>\n",
       "      <td>0</td>\n",
       "      <td>0</td>\n",
       "      <td>0</td>\n",
       "      <td>0</td>\n",
       "      <td>0</td>\n",
       "      <td>...</td>\n",
       "      <td>0</td>\n",
       "      <td>0</td>\n",
       "      <td>0</td>\n",
       "      <td>0</td>\n",
       "      <td>0</td>\n",
       "      <td>0</td>\n",
       "      <td>1</td>\n",
       "      <td>1</td>\n",
       "      <td>1</td>\n",
       "      <td>1</td>\n",
       "    </tr>\n",
       "    <tr>\n",
       "      <th>4</th>\n",
       "      <td>NaN</td>\n",
       "      <td>Angola</td>\n",
       "      <td>-11.2027</td>\n",
       "      <td>17.8739</td>\n",
       "      <td>0</td>\n",
       "      <td>0</td>\n",
       "      <td>0</td>\n",
       "      <td>0</td>\n",
       "      <td>0</td>\n",
       "      <td>0</td>\n",
       "      <td>...</td>\n",
       "      <td>0</td>\n",
       "      <td>0</td>\n",
       "      <td>0</td>\n",
       "      <td>0</td>\n",
       "      <td>0</td>\n",
       "      <td>0</td>\n",
       "      <td>0</td>\n",
       "      <td>0</td>\n",
       "      <td>0</td>\n",
       "      <td>0</td>\n",
       "    </tr>\n",
       "  </tbody>\n",
       "</table>\n",
       "<p>5 rows × 68 columns</p>\n",
       "</div>"
      ],
      "text/plain": [
       "  Province/State Country/Region      Lat     Long  1/22/20  1/23/20  1/24/20  \\\n",
       "0            NaN    Afghanistan  33.0000  65.0000        0        0        0   \n",
       "1            NaN        Albania  41.1533  20.1683        0        0        0   \n",
       "2            NaN        Algeria  28.0339   1.6596        0        0        0   \n",
       "3            NaN        Andorra  42.5063   1.5218        0        0        0   \n",
       "4            NaN         Angola -11.2027  17.8739        0        0        0   \n",
       "\n",
       "   1/25/20  1/26/20  1/27/20  ...  3/16/20  3/17/20  3/18/20  3/19/20  \\\n",
       "0        0        0        0  ...        0        0        0        0   \n",
       "1        0        0        0  ...        1        1        2        2   \n",
       "2        0        0        0  ...        4        4        7        9   \n",
       "3        0        0        0  ...        0        0        0        0   \n",
       "4        0        0        0  ...        0        0        0        0   \n",
       "\n",
       "   3/20/20  3/21/20  3/22/20  3/23/20  3/24/20  3/25/20  \n",
       "0        0        0        1        1        1        2  \n",
       "1        2        2        2        4        5        5  \n",
       "2       11       15       17       17       19       21  \n",
       "3        0        0        1        1        1        1  \n",
       "4        0        0        0        0        0        0  \n",
       "\n",
       "[5 rows x 68 columns]"
      ]
     },
     "execution_count": 18,
     "metadata": {},
     "output_type": "execute_result"
    }
   ],
   "source": [
    "# Check data \n",
    "df_deaths.head()"
   ]
  },
  {
   "cell_type": "code",
   "execution_count": 19,
   "metadata": {},
   "outputs": [
    {
     "data": {
      "text/plain": [
       "Index(['Province/State', 'Country/Region', 'Lat', 'Long', '1/22/20', '1/23/20',\n",
       "       '1/24/20', '1/25/20', '1/26/20', '1/27/20', '1/28/20', '1/29/20',\n",
       "       '1/30/20', '1/31/20', '2/1/20', '2/2/20', '2/3/20', '2/4/20', '2/5/20',\n",
       "       '2/6/20', '2/7/20', '2/8/20', '2/9/20', '2/10/20', '2/11/20', '2/12/20',\n",
       "       '2/13/20', '2/14/20', '2/15/20', '2/16/20', '2/17/20', '2/18/20',\n",
       "       '2/19/20', '2/20/20', '2/21/20', '2/22/20', '2/23/20', '2/24/20',\n",
       "       '2/25/20', '2/26/20', '2/27/20', '2/28/20', '2/29/20', '3/1/20',\n",
       "       '3/2/20', '3/3/20', '3/4/20', '3/5/20', '3/6/20', '3/7/20', '3/8/20',\n",
       "       '3/9/20', '3/10/20', '3/11/20', '3/12/20', '3/13/20', '3/14/20',\n",
       "       '3/15/20', '3/16/20', '3/17/20', '3/18/20', '3/19/20', '3/20/20',\n",
       "       '3/21/20', '3/22/20', '3/23/20', '3/24/20', '3/25/20'],\n",
       "      dtype='object')"
      ]
     },
     "execution_count": 19,
     "metadata": {},
     "output_type": "execute_result"
    }
   ],
   "source": [
    "# Get column names \n",
    "df_deaths.columns"
   ]
  },
  {
   "cell_type": "code",
   "execution_count": 20,
   "metadata": {},
   "outputs": [],
   "source": [
    "# Drop columns not needed for this Analysis  \n",
    "df_deaths.drop(['Province/State','Lat','Long'],axis=1,inplace=True)\n",
    "\n",
    "# Rename to shorter column names \n",
    "df_deaths.rename(columns= {'Country/Region':'Region'},inplace= True)"
   ]
  },
  {
   "cell_type": "code",
   "execution_count": 21,
   "metadata": {},
   "outputs": [
    {
     "data": {
      "text/plain": [
       "Index(['Region', '1/22/20', '1/23/20', '1/24/20', '1/25/20', '1/26/20',\n",
       "       '1/27/20', '1/28/20', '1/29/20', '1/30/20', '1/31/20', '2/1/20',\n",
       "       '2/2/20', '2/3/20', '2/4/20', '2/5/20', '2/6/20', '2/7/20', '2/8/20',\n",
       "       '2/9/20', '2/10/20', '2/11/20', '2/12/20', '2/13/20', '2/14/20',\n",
       "       '2/15/20', '2/16/20', '2/17/20', '2/18/20', '2/19/20', '2/20/20',\n",
       "       '2/21/20', '2/22/20', '2/23/20', '2/24/20', '2/25/20', '2/26/20',\n",
       "       '2/27/20', '2/28/20', '2/29/20', '3/1/20', '3/2/20', '3/3/20', '3/4/20',\n",
       "       '3/5/20', '3/6/20', '3/7/20', '3/8/20', '3/9/20', '3/10/20', '3/11/20',\n",
       "       '3/12/20', '3/13/20', '3/14/20', '3/15/20', '3/16/20', '3/17/20',\n",
       "       '3/18/20', '3/19/20', '3/20/20', '3/21/20', '3/22/20', '3/23/20',\n",
       "       '3/24/20', '3/25/20'],\n",
       "      dtype='object')"
      ]
     },
     "execution_count": 21,
     "metadata": {},
     "output_type": "execute_result"
    }
   ],
   "source": [
    "# Check DF after drop and rename \n",
    "df_deaths.columns"
   ]
  },
  {
   "cell_type": "code",
   "execution_count": 22,
   "metadata": {},
   "outputs": [
    {
     "data": {
      "text/html": [
       "<div>\n",
       "<style scoped>\n",
       "    .dataframe tbody tr th:only-of-type {\n",
       "        vertical-align: middle;\n",
       "    }\n",
       "\n",
       "    .dataframe tbody tr th {\n",
       "        vertical-align: top;\n",
       "    }\n",
       "\n",
       "    .dataframe thead th {\n",
       "        text-align: right;\n",
       "    }\n",
       "</style>\n",
       "<table border=\"1\" class=\"dataframe\">\n",
       "  <thead>\n",
       "    <tr style=\"text-align: right;\">\n",
       "      <th></th>\n",
       "      <th>131</th>\n",
       "      <th>133</th>\n",
       "      <th>137</th>\n",
       "      <th>143</th>\n",
       "      <th>201</th>\n",
       "    </tr>\n",
       "  </thead>\n",
       "  <tbody>\n",
       "    <tr>\n",
       "      <th>Region</th>\n",
       "      <td>India</td>\n",
       "      <td>Iran</td>\n",
       "      <td>Italy</td>\n",
       "      <td>Korea, South</td>\n",
       "      <td>Spain</td>\n",
       "    </tr>\n",
       "    <tr>\n",
       "      <th>1/22/20</th>\n",
       "      <td>0</td>\n",
       "      <td>0</td>\n",
       "      <td>0</td>\n",
       "      <td>0</td>\n",
       "      <td>0</td>\n",
       "    </tr>\n",
       "    <tr>\n",
       "      <th>1/23/20</th>\n",
       "      <td>0</td>\n",
       "      <td>0</td>\n",
       "      <td>0</td>\n",
       "      <td>0</td>\n",
       "      <td>0</td>\n",
       "    </tr>\n",
       "    <tr>\n",
       "      <th>1/24/20</th>\n",
       "      <td>0</td>\n",
       "      <td>0</td>\n",
       "      <td>0</td>\n",
       "      <td>0</td>\n",
       "      <td>0</td>\n",
       "    </tr>\n",
       "    <tr>\n",
       "      <th>1/25/20</th>\n",
       "      <td>0</td>\n",
       "      <td>0</td>\n",
       "      <td>0</td>\n",
       "      <td>0</td>\n",
       "      <td>0</td>\n",
       "    </tr>\n",
       "  </tbody>\n",
       "</table>\n",
       "</div>"
      ],
      "text/plain": [
       "           131   133    137           143    201\n",
       "Region   India  Iran  Italy  Korea, South  Spain\n",
       "1/22/20      0     0      0             0      0\n",
       "1/23/20      0     0      0             0      0\n",
       "1/24/20      0     0      0             0      0\n",
       "1/25/20      0     0      0             0      0"
      ]
     },
     "execution_count": 22,
     "metadata": {},
     "output_type": "execute_result"
    }
   ],
   "source": [
    "# subset by countries to plot \n",
    "df_deaths_plot= df_deaths[df_deaths.Region.isin(plot_countries)]\n",
    "\n",
    "# Transpose df\n",
    "df_deaths_plot_T = df_deaths_plot.T\n",
    "\n",
    "# Check Actual Col Names \n",
    "df_deaths_plot_T.head()"
   ]
  },
  {
   "cell_type": "code",
   "execution_count": 23,
   "metadata": {},
   "outputs": [
    {
     "data": {
      "text/html": [
       "<div>\n",
       "<style scoped>\n",
       "    .dataframe tbody tr th:only-of-type {\n",
       "        vertical-align: middle;\n",
       "    }\n",
       "\n",
       "    .dataframe tbody tr th {\n",
       "        vertical-align: top;\n",
       "    }\n",
       "\n",
       "    .dataframe thead th {\n",
       "        text-align: right;\n",
       "    }\n",
       "</style>\n",
       "<table border=\"1\" class=\"dataframe\">\n",
       "  <thead>\n",
       "    <tr style=\"text-align: right;\">\n",
       "      <th></th>\n",
       "      <th>India</th>\n",
       "      <th>Iran</th>\n",
       "      <th>Italy</th>\n",
       "      <th>Korea, South</th>\n",
       "      <th>Spain</th>\n",
       "    </tr>\n",
       "    <tr>\n",
       "      <th>DATE</th>\n",
       "      <th></th>\n",
       "      <th></th>\n",
       "      <th></th>\n",
       "      <th></th>\n",
       "      <th></th>\n",
       "    </tr>\n",
       "  </thead>\n",
       "  <tbody>\n",
       "    <tr>\n",
       "      <th>1/22/20</th>\n",
       "      <td>0</td>\n",
       "      <td>0</td>\n",
       "      <td>0</td>\n",
       "      <td>0</td>\n",
       "      <td>0</td>\n",
       "    </tr>\n",
       "    <tr>\n",
       "      <th>1/23/20</th>\n",
       "      <td>0</td>\n",
       "      <td>0</td>\n",
       "      <td>0</td>\n",
       "      <td>0</td>\n",
       "      <td>0</td>\n",
       "    </tr>\n",
       "    <tr>\n",
       "      <th>1/24/20</th>\n",
       "      <td>0</td>\n",
       "      <td>0</td>\n",
       "      <td>0</td>\n",
       "      <td>0</td>\n",
       "      <td>0</td>\n",
       "    </tr>\n",
       "    <tr>\n",
       "      <th>1/25/20</th>\n",
       "      <td>0</td>\n",
       "      <td>0</td>\n",
       "      <td>0</td>\n",
       "      <td>0</td>\n",
       "      <td>0</td>\n",
       "    </tr>\n",
       "    <tr>\n",
       "      <th>1/26/20</th>\n",
       "      <td>0</td>\n",
       "      <td>0</td>\n",
       "      <td>0</td>\n",
       "      <td>0</td>\n",
       "      <td>0</td>\n",
       "    </tr>\n",
       "  </tbody>\n",
       "</table>\n",
       "</div>"
      ],
      "text/plain": [
       "        India Iran Italy Korea, South Spain\n",
       "DATE                                       \n",
       "1/22/20     0    0     0            0     0\n",
       "1/23/20     0    0     0            0     0\n",
       "1/24/20     0    0     0            0     0\n",
       "1/25/20     0    0     0            0     0\n",
       "1/26/20     0    0     0            0     0"
      ]
     },
     "execution_count": 23,
     "metadata": {},
     "output_type": "execute_result"
    }
   ],
   "source": [
    "# Rename Columns \n",
    "df_deaths_plot_T.rename(columns= {131:'India',137:'Italy',133:'Iran',143:'Korea, South',201:'Spain'},inplace= True)\n",
    "\n",
    "# drop first row \n",
    "df_deaths_plot_T.drop(df_deaths_plot_T.index[0],inplace=True)\n",
    "\n",
    "# name Index \n",
    "df_deaths_plot_T.index.name='DATE'\n",
    "\n",
    "# Check \n",
    "df_deaths_plot_T.head()"
   ]
  },
  {
   "cell_type": "markdown",
   "metadata": {},
   "source": [
    "##  Compare Spreads Across Countries \n"
   ]
  },
  {
   "cell_type": "code",
   "execution_count": 24,
   "metadata": {},
   "outputs": [],
   "source": [
    "# copy DFs for plot\n",
    "df_confirmed_All = df_conf_plot_T.copy()\n",
    "df_recovered_All = df_recov_plot_T.copy()\n",
    "df_deaths_All    = df_deaths_plot_T.copy()"
   ]
  },
  {
   "cell_type": "code",
   "execution_count": 25,
   "metadata": {},
   "outputs": [],
   "source": [
    "XDate = df_confirmed_All.index\n",
    "XDate_recov = df_recovered_All.index"
   ]
  },
  {
   "cell_type": "code",
   "execution_count": 26,
   "metadata": {},
   "outputs": [
    {
     "data": {
      "image/png": "[encoded data removed]",
      "text/plain": [
       "<Figure size 432x288 with 1 Axes>"
      ]
     },
     "metadata": {
      "needs_background": "light"
     },
     "output_type": "display_data"
    }
   ],
   "source": [
    "df_confirmed_All.plot();"
   ]
  },
  {
   "cell_type": "code",
   "execution_count": 27,
   "metadata": {},
   "outputs": [
    {
     "data": {
      "image/png": "[encoded data removed]",
      "text/plain": [
       "<Figure size 432x288 with 1 Axes>"
      ]
     },
     "metadata": {
      "needs_background": "light"
     },
     "output_type": "display_data"
    }
   ],
   "source": [
    "#df_recovered_All.plot();\n",
    "df_deaths_plot_T.plot();"
   ]
  },
  {
   "cell_type": "code",
   "execution_count": 28,
   "metadata": {},
   "outputs": [
    {
     "data": {
      "image/png": "[encoded data removed]",
      "text/plain": [
       "<Figure size 432x288 with 1 Axes>"
      ]
     },
     "metadata": {
      "needs_background": "light"
     },
     "output_type": "display_data"
    }
   ],
   "source": [
    "df_recovered_All.plot();\n",
    "df_recovered1 = df_recovered_All.copy()"
   ]
  },
  {
   "cell_type": "code",
   "execution_count": null,
   "metadata": {},
   "outputs": [],
   "source": []
  },
  {
   "cell_type": "code",
   "execution_count": 29,
   "metadata": {},
   "outputs": [
    {
     "data": {
      "image/png": "[encoded data removed]",
      "text/plain": [
       "<Figure size 432x288 with 1 Axes>"
      ]
     },
     "metadata": {
      "needs_background": "light"
     },
     "output_type": "display_data"
    }
   ],
   "source": [
    "df_recovered1.fillna(0,inplace=True)\n",
    "df_recovered1.plot();"
   ]
  },
  {
   "cell_type": "markdown",
   "metadata": {},
   "source": [
    "##  Cases in India  vs Deaths "
   ]
  },
  {
   "cell_type": "code",
   "execution_count": 32,
   "metadata": {},
   "outputs": [
    {
     "data": {
      "image/png": "[encoded data removed]",
      "text/plain": [
       "<Figure size 1440x720 with 1 Axes>"
      ]
     },
     "metadata": {
      "needs_background": "light"
     },
     "output_type": "display_data"
    }
   ],
   "source": [
    "s1 = df_confirmed_All['India']\n",
    "s2 = df_deaths_All['India']\n",
    "\n",
    "\n",
    "fig = plt.figure(figsize=(20,10))\n",
    "ax = plt.subplot(111)\n",
    "ax.plot(XDate, s1, label='Actual Confirmed')\n",
    "ax.plot(XDate, s2, label = 'Deaths')\n",
    "ax.legend()\n",
    "ax.tick_params(direction='out', length=10, width=10, colors='r')\n",
    "ax.set_xlabel('Date',fontsize=25)\n",
    "ax.set_ylabel('Cases count',fontsize=25)\n",
    "ax.set_title('COVID 19 scene in India  as of 25th March 2020',fontsize=25)\n",
    "fig.autofmt_xdate()\n",
    "\n",
    "ax.grid(True)\n",
    "fig.tight_layout()\n",
    "\n",
    "plt.show()"
   ]
  },
  {
   "cell_type": "code",
   "execution_count": 33,
   "metadata": {},
   "outputs": [],
   "source": [
    "# Extract date DF for All countries \n",
    "df_confirmed_1 = df_confirmed_All.copy()\n",
    "# Create date column \n",
    "df_confirmed_All['DATE'] = df_confirmed_All.index\n",
    "df_confirmed_All.head()\n",
    "# Create date DF \n",
    "DT_df = df_confirmed_All[['DATE']]\n",
    "DT_df  = DT_df.set_index('DATE')\n"
   ]
  },
  {
   "cell_type": "code",
   "execution_count": 34,
   "metadata": {},
   "outputs": [],
   "source": [
    "# Extract Series for All countries\n",
    "s_India   = df_confirmed_All['India']\n",
    "s_Iran    = df_confirmed_All['Iran']\n",
    "s_Italy   = df_confirmed_All['Italy']\n",
    "s_Korea   = df_confirmed_All['Korea, South']\n",
    "s_Spain   = df_confirmed_All['Spain']"
   ]
  },
  {
   "cell_type": "code",
   "execution_count": 35,
   "metadata": {},
   "outputs": [],
   "source": [
    "# Extract date DF   for All countries\n",
    "#--------------------------------------\n",
    "n = 50  # cutoff case count for fitting model \n",
    "#------------------\n",
    "India_DT_df      = DT_df[s_India >n]\n",
    "Iran_DT_df       = DT_df[s_Iran >n]\n",
    "Italy_DT_df      = DT_df[s_Italy >n]\n",
    "Korea_DT_df      = DT_df[s_Korea >n]\n",
    "Spain_DT_df      = DT_df[s_Spain >n]\n"
   ]
  },
  {
   "cell_type": "code",
   "execution_count": 36,
   "metadata": {},
   "outputs": [
    {
     "name": "stderr",
     "output_type": "stream",
     "text": [
      "C:\\ProgramData\\Anaconda3\\lib\\site-packages\\ipykernel_launcher.py:2: SettingWithCopyWarning:\n",
      "\n",
      "\n",
      "A value is trying to be set on a copy of a slice from a DataFrame.\n",
      "Try using .loc[row_indexer,col_indexer] = value instead\n",
      "\n",
      "See the caveats in the documentation: http://pandas.pydata.org/pandas-docs/stable/indexing.html#indexing-view-versus-copy\n",
      "\n",
      "C:\\ProgramData\\Anaconda3\\lib\\site-packages\\ipykernel_launcher.py:3: SettingWithCopyWarning:\n",
      "\n",
      "\n",
      "A value is trying to be set on a copy of a slice from a DataFrame.\n",
      "Try using .loc[row_indexer,col_indexer] = value instead\n",
      "\n",
      "See the caveats in the documentation: http://pandas.pydata.org/pandas-docs/stable/indexing.html#indexing-view-versus-copy\n",
      "\n",
      "C:\\ProgramData\\Anaconda3\\lib\\site-packages\\ipykernel_launcher.py:4: SettingWithCopyWarning:\n",
      "\n",
      "\n",
      "A value is trying to be set on a copy of a slice from a DataFrame.\n",
      "Try using .loc[row_indexer,col_indexer] = value instead\n",
      "\n",
      "See the caveats in the documentation: http://pandas.pydata.org/pandas-docs/stable/indexing.html#indexing-view-versus-copy\n",
      "\n",
      "C:\\ProgramData\\Anaconda3\\lib\\site-packages\\ipykernel_launcher.py:5: SettingWithCopyWarning:\n",
      "\n",
      "\n",
      "A value is trying to be set on a copy of a slice from a DataFrame.\n",
      "Try using .loc[row_indexer,col_indexer] = value instead\n",
      "\n",
      "See the caveats in the documentation: http://pandas.pydata.org/pandas-docs/stable/indexing.html#indexing-view-versus-copy\n",
      "\n",
      "C:\\ProgramData\\Anaconda3\\lib\\site-packages\\ipykernel_launcher.py:6: SettingWithCopyWarning:\n",
      "\n",
      "\n",
      "A value is trying to be set on a copy of a slice from a DataFrame.\n",
      "Try using .loc[row_indexer,col_indexer] = value instead\n",
      "\n",
      "See the caveats in the documentation: http://pandas.pydata.org/pandas-docs/stable/indexing.html#indexing-view-versus-copy\n",
      "\n"
     ]
    }
   ],
   "source": [
    "# Create a Date column \n",
    "India_DT_df['Date']      = India_DT_df.index\n",
    "Iran_DT_df['Date']       = Iran_DT_df.index\n",
    "Italy_DT_df['Date']      = Italy_DT_df.index\n",
    "Korea_DT_df['Date']      = Korea_DT_df.index\n",
    "Spain_DT_df['Date']      = Spain_DT_df.index "
   ]
  },
  {
   "cell_type": "code",
   "execution_count": 37,
   "metadata": {},
   "outputs": [],
   "source": [
    "# Get Series of All date DFs\n",
    "India_DT_s  = India_DT_df['Date']      \n",
    "Iran_DT_s   = Iran_DT_df['Date']     \n",
    "Italy_DT_s  = Italy_DT_df['Date']      \n",
    "Korea_DT_s  = Korea_DT_df['Date']      \n",
    "Spain_DT_s  = Spain_DT_df['Date']"
   ]
  },
  {
   "cell_type": "code",
   "execution_count": 55,
   "metadata": {},
   "outputs": [],
   "source": [
    "# subset each series for numbers > 100\n",
    "n = 50\n",
    "#-------------------------------------------------\n",
    "# India\n",
    "s_India_GE100 = s_India[s_India > n] \n",
    "s_India_GE100 = pd.to_numeric(s_India_GE100, errors='coerce').fillna(0, downcast='infer')\n",
    "#----------------------------------------------\n",
    "# Iran\n",
    "s_Iran_GE100 = s_Iran[s_Iran > n] \n",
    "s_Iran_GE100 = pd.to_numeric(s_Iran_GE100, errors='coerce').fillna(0, downcast='infer')\n",
    "#-------------------------------------------------\n",
    "# Italy\n",
    "s_Italy_GE100 = s_Italy[s_Italy > n] \n",
    "s_Italy_GE100 = pd.to_numeric(s_Italy_GE100, errors='coerce').fillna(0, downcast='infer')\n",
    "#-------------------------------------------------\n",
    "# Korea\n",
    "s_Korea_GE100 = s_Korea[s_Korea > n] \n",
    "s_Korea_GE100 = pd.to_numeric(s_Korea_GE100, errors='coerce').fillna(0, downcast='infer')\n",
    "#--------------------------------------------------\n",
    "# Spain\n",
    "s_Spain_GE100 = s_Spain[s_Spain > n] \n",
    "s_Spain_GE100 = pd.to_numeric(s_Spain_GE100, errors='coerce').fillna(0, downcast='infer')\n",
    "\n"
   ]
  },
  {
   "cell_type": "code",
   "execution_count": 72,
   "metadata": {},
   "outputs": [],
   "source": [
    "# Model India \n",
    "import numpy as np\n",
    "#--------------------------------------\n",
    "# Y data \n",
    "Y = s_India_GE100\n",
    "# X data \n",
    "X = np.arange(1,len(Y)+1)\n",
    "Xdate = India_DT_s\n",
    "# Fit 3rd Degree polynomial capture coefficients \n",
    "Z = np.polyfit(X, Y, 3)\n",
    "# Generate polynomial function with these coefficients \n",
    "P = np.poly1d(Z)\n",
    "# Generate X data for forecast \n",
    "XP = np.arange(1,len(Y)+8)\n",
    "# Generate forecast \n",
    "YP = P(XP)\n",
    "# Fit Curve\n",
    "Yfit = P(X)\n",
    "\n",
    "import datetime\n",
    "start = Xdate[0]\n",
    "#start\n",
    "end_dt = datetime.datetime.strptime(Xdate[len(Xdate)-1], \"%m/%d/%y\")\n",
    "\n",
    "end_date = datetime.datetime.strptime(str(end_dt),'%Y-%m-%d %H:%M:%S').date()\n",
    "\n",
    "end_forecast_dt= end_dt + datetime.timedelta(days=7)\n",
    "\n",
    "end_forecast =  datetime.datetime.strptime(str(end_forecast_dt),'%Y-%m-%d %H:%M:%S').date()\n",
    "end_forecast\n",
    "#\n",
    "mydates = pd.date_range(start, end_forecast).to_list()\n",
    "mydates_df = pd.DataFrame(mydates,columns =['Date']) \n",
    "mydates_df  = mydates_df.set_index('Date')\n",
    "mydates_df['Date'] = mydates_df.index\n",
    "X_FC = mydates_df['Date']"
   ]
  },
  {
   "cell_type": "code",
   "execution_count": 102,
   "metadata": {},
   "outputs": [
    {
     "data": {
      "image/png": "[encoded data removed]",
      "text/plain": [
       "<Figure size 1440x720 with 1 Axes>"
      ]
     },
     "metadata": {
      "needs_background": "light"
     },
     "output_type": "display_data"
    }
   ],
   "source": [
    "fig = plt.figure(figsize=(20,10))\n",
    "ax = plt.subplot(111)\n",
    "ax.plot(X, Y, '--',label='Actual Confirmed')\n",
    "ax.plot(XP, YP, 'o',label='Predicted Fit using 3rd degree polynomial')\n",
    "plt.title('COVID RISE IN India Current Vs Predictions till 1st April 2020')\n",
    "ax.legend()\n",
    "ax.set_ylim(0,2000)\n",
    "ax.grid(True)\n",
    "plt.show()"
   ]
  },
  {
   "cell_type": "code",
   "execution_count": 80,
   "metadata": {},
   "outputs": [
    {
     "data": {
      "image/png": "[encoded data removed]",
      "text/plain": [
       "<Figure size 1440x720 with 1 Axes>"
      ]
     },
     "metadata": {
      "needs_background": "light"
     },
     "output_type": "display_data"
    }
   ],
   "source": [
    "# Define new figure \n",
    "fig, ax = plt.subplots(figsize=(20,10))\n",
    "ax.plot(Xdate,Y,'b-')\n",
    "ax.tick_params(direction='out', length=10, width=10, colors='r')\n",
    "ax.set_xlabel('Date',fontsize=25)\n",
    "ax.set_ylabel('Confirmed Cases',fontsize=25)\n",
    "ax.set_title('COVID 19 Spread in India as of 25th March 2020',fontsize=25)\n",
    "ax.set_ylim(0,2000)\n",
    "fig.autofmt_xdate()\n",
    "\n",
    "ax.grid(True)\n",
    "fig.tight_layout()\n",
    "\n",
    "plt.show()"
   ]
  },
  {
   "cell_type": "code",
   "execution_count": 79,
   "metadata": {},
   "outputs": [
    {
     "data": {
      "image/png": "[encoded data removed]",
      "text/plain": [
       "<Figure size 1440x720 with 1 Axes>"
      ]
     },
     "metadata": {
      "needs_background": "light"
     },
     "output_type": "display_data"
    }
   ],
   "source": [
    "# Define new figure \n",
    "fig, ax = plt.subplots(figsize=(20,10))\n",
    "ax.plot(X_FC,YP,'--')\n",
    "ax.tick_params(direction='out', length=10, width=10, colors='r')\n",
    "ax.set_xlabel('Date',fontsize=25)\n",
    "ax.set_ylabel('Predicted Cases',fontsize=25)\n",
    "ax.set_ylim(0,2000)\n",
    "ax.set_title('COVID 19 PREDICTION for India till 1st April 2020',fontsize=25)\n",
    "fig.autofmt_xdate()\n",
    "\n",
    "ax.grid(True)\n",
    "fig.tight_layout()\n",
    "\n",
    "plt.show()"
   ]
  },
  {
   "cell_type": "code",
   "execution_count": 130,
   "metadata": {},
   "outputs": [
    {
     "data": {
      "text/html": [
       "<style  type=\"text/css\" >\n",
       "    #T_b8487eb6_7070_11ea_8094_dc719659e3dfrow0_col0 {\n",
       "            background-color:  #fff7fb;\n",
       "            color:  #000000;\n",
       "        }    #T_b8487eb6_7070_11ea_8094_dc719659e3dfrow1_col0 {\n",
       "            background-color:  #f0eaf4;\n",
       "            color:  #000000;\n",
       "        }    #T_b8487eb6_7070_11ea_8094_dc719659e3dfrow2_col0 {\n",
       "            background-color:  #d9d8ea;\n",
       "            color:  #000000;\n",
       "        }    #T_b8487eb6_7070_11ea_8094_dc719659e3dfrow3_col0 {\n",
       "            background-color:  #b3c3de;\n",
       "            color:  #000000;\n",
       "        }    #T_b8487eb6_7070_11ea_8094_dc719659e3dfrow4_col0 {\n",
       "            background-color:  #7dacd1;\n",
       "            color:  #000000;\n",
       "        }    #T_b8487eb6_7070_11ea_8094_dc719659e3dfrow5_col0 {\n",
       "            background-color:  #328dbf;\n",
       "            color:  #000000;\n",
       "        }    #T_b8487eb6_7070_11ea_8094_dc719659e3dfrow6_col0 {\n",
       "            background-color:  #05659f;\n",
       "            color:  #f1f1f1;\n",
       "        }    #T_b8487eb6_7070_11ea_8094_dc719659e3dfrow7_col0 {\n",
       "            background-color:  #023858;\n",
       "            color:  #f1f1f1;\n",
       "        }</style><table id=\"T_b8487eb6_7070_11ea_8094_dc719659e3df\" ><thead>    <tr>        <th class=\"blank level0\" ></th>        <th class=\"col_heading level0 col0\" >Predicted_Cases</th>    </tr>    <tr>        <th class=\"index_name level0\" >Date</th>        <th class=\"blank\" ></th>    </tr></thead><tbody>\n",
       "                <tr>\n",
       "                        <th id=\"T_b8487eb6_7070_11ea_8094_dc719659e3dflevel0_row0\" class=\"row_heading level0 row0\" >2020-03-25 00:00:00</th>\n",
       "                        <td id=\"T_b8487eb6_7070_11ea_8094_dc719659e3dfrow0_col0\" class=\"data row0 col0\" >664</td>\n",
       "            </tr>\n",
       "            <tr>\n",
       "                        <th id=\"T_b8487eb6_7070_11ea_8094_dc719659e3dflevel0_row1\" class=\"row_heading level0 row1\" >2020-03-26 00:00:00</th>\n",
       "                        <td id=\"T_b8487eb6_7070_11ea_8094_dc719659e3dfrow1_col0\" class=\"data row1 col0\" >787</td>\n",
       "            </tr>\n",
       "            <tr>\n",
       "                        <th id=\"T_b8487eb6_7070_11ea_8094_dc719659e3dflevel0_row2\" class=\"row_heading level0 row2\" >2020-03-27 00:00:00</th>\n",
       "                        <td id=\"T_b8487eb6_7070_11ea_8094_dc719659e3dfrow2_col0\" class=\"data row2 col0\" >926</td>\n",
       "            </tr>\n",
       "            <tr>\n",
       "                        <th id=\"T_b8487eb6_7070_11ea_8094_dc719659e3dflevel0_row3\" class=\"row_heading level0 row3\" >2020-03-28 00:00:00</th>\n",
       "                        <td id=\"T_b8487eb6_7070_11ea_8094_dc719659e3dfrow3_col0\" class=\"data row3 col0\" >1082</td>\n",
       "            </tr>\n",
       "            <tr>\n",
       "                        <th id=\"T_b8487eb6_7070_11ea_8094_dc719659e3dflevel0_row4\" class=\"row_heading level0 row4\" >2020-03-29 00:00:00</th>\n",
       "                        <td id=\"T_b8487eb6_7070_11ea_8094_dc719659e3dfrow4_col0\" class=\"data row4 col0\" >1257</td>\n",
       "            </tr>\n",
       "            <tr>\n",
       "                        <th id=\"T_b8487eb6_7070_11ea_8094_dc719659e3dflevel0_row5\" class=\"row_heading level0 row5\" >2020-03-30 00:00:00</th>\n",
       "                        <td id=\"T_b8487eb6_7070_11ea_8094_dc719659e3dfrow5_col0\" class=\"data row5 col0\" >1452</td>\n",
       "            </tr>\n",
       "            <tr>\n",
       "                        <th id=\"T_b8487eb6_7070_11ea_8094_dc719659e3dflevel0_row6\" class=\"row_heading level0 row6\" >2020-03-31 00:00:00</th>\n",
       "                        <td id=\"T_b8487eb6_7070_11ea_8094_dc719659e3dfrow6_col0\" class=\"data row6 col0\" >1668</td>\n",
       "            </tr>\n",
       "            <tr>\n",
       "                        <th id=\"T_b8487eb6_7070_11ea_8094_dc719659e3dflevel0_row7\" class=\"row_heading level0 row7\" >2020-04-01 00:00:00</th>\n",
       "                        <td id=\"T_b8487eb6_7070_11ea_8094_dc719659e3dfrow7_col0\" class=\"data row7 col0\" >1905</td>\n",
       "            </tr>\n",
       "    </tbody></table>"
      ],
      "text/plain": [
       "<pandas.io.formats.style.Styler at 0x1b449809b70>"
      ]
     },
     "execution_count": 130,
     "metadata": {},
     "output_type": "execute_result"
    }
   ],
   "source": [
    "# Create a dataframe from Predicted data \n",
    "dict1 = {'Date':X_FC,'Predicted_Cases':YP}\n",
    "pred_df = pd.DataFrame.from_dict(dict1)\n",
    "pred_df = pred_df[['Predicted_Cases']]\n",
    "pred_df.Predicted_Cases = pred_df.Predicted_Cases.astype(int)\n",
    "pred_df1 = pred_df.tail(n=8)\n",
    "pred_df1.style.background_gradient()\n",
    "\n",
    "\n"
   ]
  },
  {
   "cell_type": "code",
   "execution_count": 138,
   "metadata": {},
   "outputs": [
    {
     "data": {
      "text/html": [
       "<style  type=\"text/css\" >\n",
       "    #T_ceac17c8_7071_11ea_90c4_dc719659e3dfrow0_col0 {\n",
       "            background-color:  #fff7fb;\n",
       "            color:  #000000;\n",
       "        }    #T_ceac17c8_7071_11ea_90c4_dc719659e3dfrow1_col0 {\n",
       "            background-color:  #0771b1;\n",
       "            color:  #f1f1f1;\n",
       "        }    #T_ceac17c8_7071_11ea_90c4_dc719659e3dfrow2_col0 {\n",
       "            background-color:  #023858;\n",
       "            color:  #f1f1f1;\n",
       "        }</style><table id=\"T_ceac17c8_7071_11ea_90c4_dc719659e3df\" ><thead>    <tr>        <th class=\"blank level0\" ></th>        <th class=\"col_heading level0 col0\" >Total_Actuals</th>    </tr>    <tr>        <th class=\"index_name level0\" >Date</th>        <th class=\"blank\" ></th>    </tr></thead><tbody>\n",
       "                <tr>\n",
       "                        <th id=\"T_ceac17c8_7071_11ea_90c4_dc719659e3dflevel0_row0\" class=\"row_heading level0 row0\" >2020-03-25</th>\n",
       "                        <td id=\"T_ceac17c8_7071_11ea_90c4_dc719659e3dfrow0_col0\" class=\"data row0 col0\" >606</td>\n",
       "            </tr>\n",
       "            <tr>\n",
       "                        <th id=\"T_ceac17c8_7071_11ea_90c4_dc719659e3dflevel0_row1\" class=\"row_heading level0 row1\" >2020-03-26</th>\n",
       "                        <td id=\"T_ceac17c8_7071_11ea_90c4_dc719659e3dfrow1_col0\" class=\"data row1 col0\" >694</td>\n",
       "            </tr>\n",
       "            <tr>\n",
       "                        <th id=\"T_ceac17c8_7071_11ea_90c4_dc719659e3dflevel0_row2\" class=\"row_heading level0 row2\" >2020-03-27</th>\n",
       "                        <td id=\"T_ceac17c8_7071_11ea_90c4_dc719659e3dfrow2_col0\" class=\"data row2 col0\" >724</td>\n",
       "            </tr>\n",
       "    </tbody></table>"
      ],
      "text/plain": [
       "<pandas.io.formats.style.Styler at 0x1b4487b7668>"
      ]
     },
     "execution_count": 138,
     "metadata": {},
     "output_type": "execute_result"
    }
   ],
   "source": [
    "# Read file for DBD India cases \n",
    "India_dbd_df = pd.read_csv('India_cases_March_27.csv')\n",
    "India_dbd_df['Total_Actuals']= India_dbd_df['Confirmed_Foreign'] +India_dbd_df['Confirmed_Indian']\n",
    "cols_to_keep = ['Date','Total_Actuals']\n",
    "India_Act_df = India_dbd_df[cols_to_keep]\n",
    "\n",
    "India_Act_df1 = India_Act_df.tail(n=3)\n",
    "India_Act_df1.set_index('Date',inplace=True)\n",
    "India_Act_df1.style.background_gradient()"
   ]
  }
 ],
 "metadata": {
  "kernelspec": {
   "display_name": "Python 3",
   "language": "python",
   "name": "python3"
  },
  "language_info": {
   "codemirror_mode": {
    "name": "ipython",
    "version": 3
   },
   "file_extension": ".py",
   "mimetype": "text/x-python",
   "name": "python",
   "nbconvert_exporter": "python",
   "pygments_lexer": "ipython3",
   "version": "3.7.3"
  }
 },
 "nbformat": 4,
 "nbformat_minor": 4
}

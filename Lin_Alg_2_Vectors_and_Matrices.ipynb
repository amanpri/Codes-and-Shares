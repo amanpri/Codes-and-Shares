{
 "cells": [
  {
   "cell_type": "markdown",
   "metadata": {},
   "source": [
    "# Linear Algebra : Vectors and Matrices "
   ]
  },
  {
   "cell_type": "markdown",
   "metadata": {},
   "source": [
    "##  Vectors "
   ]
  },
  {
   "cell_type": "code",
   "execution_count": 11,
   "metadata": {},
   "outputs": [
    {
     "name": "stdout",
     "output_type": "stream",
     "text": [
      "[1 2 3]\n"
     ]
    }
   ],
   "source": [
    "# create a vector\n",
    "from numpy import array\n",
    "# define vector\n",
    "v = array([1, 2, 3])\n",
    "print(v)"
   ]
  },
  {
   "cell_type": "markdown",
   "metadata": {},
   "source": [
    "### 1) Addition "
   ]
  },
  {
   "cell_type": "code",
   "execution_count": 2,
   "metadata": {},
   "outputs": [
    {
     "name": "stdout",
     "output_type": "stream",
     "text": [
      "print the first vector [1 2 3]\n",
      "print the second vector [1 2 3]\n",
      "c = a + b [2 4 6]\n"
     ]
    }
   ],
   "source": [
    "# vector addition\n",
    "from numpy import array\n",
    "# define first vector\n",
    "a = array([1, 2, 3])\n",
    "print(\"print the first vector\",a)\n",
    "# define second vector\n",
    "b = array([1, 2, 3])\n",
    "print(\"print the second vector\",b)\n",
    "# add vectors\n",
    "c = a + b\n",
    "print(\"c = a + b is : \",c)"
   ]
  },
  {
   "cell_type": "markdown",
   "metadata": {},
   "source": [
    "### 2) Subtraction "
   ]
  },
  {
   "cell_type": "code",
   "execution_count": 4,
   "metadata": {},
   "outputs": [
    {
     "name": "stdout",
     "output_type": "stream",
     "text": [
      "The first vector a [1 2 3]\n",
      "The second vector b [0.5 0.5 0.5]\n",
      "c = a-b is :  [0.5 1.5 2.5]\n"
     ]
    }
   ],
   "source": [
    "# vector subtraction\n",
    "from numpy import array\n",
    "# define first vector\n",
    "a = array([1, 2, 3])\n",
    "print(\"The first vector a\", a)\n",
    "# define second vector\n",
    "b = array([0.5, 0.5, 0.5])\n",
    "print(\"The second vector b\",b)\n",
    "# subtract vectors\n",
    "c = a - b\n",
    "print(\"c = a-b is : \", c)"
   ]
  },
  {
   "cell_type": "markdown",
   "metadata": {},
   "source": [
    "### 3) Multiplication "
   ]
  },
  {
   "cell_type": "code",
   "execution_count": 5,
   "metadata": {},
   "outputs": [
    {
     "name": "stdout",
     "output_type": "stream",
     "text": [
      "The first vector :  [1 2 3]\n",
      "The second vector : [1 2 3]\n",
      " c = a*b  [1 4 9]\n"
     ]
    }
   ],
   "source": [
    "# vector multiplication\n",
    "from numpy import array\n",
    "# define first vector\n",
    "a = array([1, 2, 3])\n",
    "print(\"The first vector : \",a)\n",
    "# define second vector\n",
    "b = array([1, 2, 3])\n",
    "print(\"The second vector :\",b)\n",
    "# multiply vectors\n",
    "c = a * b\n",
    "print(\" c = a*b \",c)"
   ]
  },
  {
   "cell_type": "markdown",
   "metadata": {},
   "source": [
    "### 4) Division "
   ]
  },
  {
   "cell_type": "code",
   "execution_count": 9,
   "metadata": {},
   "outputs": [
    {
     "name": "stdout",
     "output_type": "stream",
     "text": [
      "The first vector :  [1 2 3]\n",
      "The second vector :  [1 2 3]\n",
      " c = a/b is :  [1. 1. 1.]\n"
     ]
    }
   ],
   "source": [
    "# vector division\n",
    "from numpy import array\n",
    "# define first vector\n",
    "a = array([1, 2, 3])\n",
    "print(\"The first vector : \",a)\n",
    "# define second vector\n",
    "b = array([1, 2, 3])\n",
    "print(\"The second vector : \",b)\n",
    "# divide vectors\n",
    "c = a / b\n",
    "print(\" c = a/b is : \",c)"
   ]
  },
  {
   "cell_type": "markdown",
   "metadata": {},
   "source": [
    "### 4) Dot product "
   ]
  },
  {
   "cell_type": "code",
   "execution_count": 10,
   "metadata": {},
   "outputs": [
    {
     "name": "stdout",
     "output_type": "stream",
     "text": [
      " The  first vector is : [1 2 3]\n",
      " The second vector is :  [1 2 3]\n",
      " c = a dot b is :  14\n"
     ]
    }
   ],
   "source": [
    "# vector dot product\n",
    "from numpy import array\n",
    "# define first vector\n",
    "a = array([1, 2, 3])\n",
    "print(\" The  first vector is :\",a)\n",
    "# define second vector\n",
    "b = array([1, 2, 3])\n",
    "print(\" The second vector is : \",b)\n",
    "# multiply vectors\n",
    "c = a.dot(b)\n",
    "print(\" c = a dot b is : \", c)  "
   ]
  },
  {
   "cell_type": "markdown",
   "metadata": {},
   "source": [
    "### 5)  Vector Scalar Multiplication "
   ]
  },
  {
   "cell_type": "code",
   "execution_count": 15,
   "metadata": {},
   "outputs": [
    {
     "name": "stdout",
     "output_type": "stream",
     "text": [
      "Vector is :  [1 2 3]\n",
      "Scalar is  0.5\n",
      " c = s*a   is:  [0.5 1.  1.5]\n"
     ]
    }
   ],
   "source": [
    "# vector-scalar multiplication\n",
    "from numpy import array\n",
    "# define vector\n",
    "a = array([1, 2, 3])\n",
    "print(\"Vector is : \",a)\n",
    "# define scalar\n",
    "s = 0.5\n",
    "print(\"Scalar is \",s)\n",
    "# multiplication\n",
    "c = s * a\n",
    "print(\" c = s*a   is: \",c)\n"
   ]
  },
  {
   "cell_type": "markdown",
   "metadata": {},
   "source": [
    "### 6) L1 norm "
   ]
  },
  {
   "cell_type": "code",
   "execution_count": 21,
   "metadata": {},
   "outputs": [
    {
     "name": "stdout",
     "output_type": "stream",
     "text": [
      "Vector a is :  [1 2 3]\n",
      "The L1 norm of a is :  6.0\n"
     ]
    }
   ],
   "source": [
    "# Vector L1 norm\n",
    "from numpy import array\n",
    "from numpy.linalg import norm\n",
    "# define vector\n",
    "a = array([1, 2, 3])\n",
    "print(\"Vector a is : \", a)\n",
    "# calculate norm\n",
    "l1 = norm(a, 1)\n",
    "print(\"The L1 norm of a is : \", l1)"
   ]
  },
  {
   "cell_type": "markdown",
   "metadata": {},
   "source": [
    "### 7) L2 norm "
   ]
  },
  {
   "cell_type": "code",
   "execution_count": 23,
   "metadata": {},
   "outputs": [
    {
     "name": "stdout",
     "output_type": "stream",
     "text": [
      "The vector a is : [1 2 3]\n",
      "The l2 norm of a is : 3.7416573867739413\n"
     ]
    }
   ],
   "source": [
    "# vector L2 norm\n",
    "from numpy import array\n",
    "from numpy.linalg import norm\n",
    "# define vector\n",
    "a = array([1, 2, 3])\n",
    "print(\"The vector a is :\",a)\n",
    "# calculate norm\n",
    "l2 = norm(a)\n",
    "print(\"The l2 norm of a is :\",l2)"
   ]
  },
  {
   "cell_type": "markdown",
   "metadata": {},
   "source": [
    "## Matrices "
   ]
  },
  {
   "cell_type": "markdown",
   "metadata": {},
   "source": [
    "### Create  a   Matrix "
   ]
  },
  {
   "cell_type": "code",
   "execution_count": 24,
   "metadata": {},
   "outputs": [
    {
     "name": "stdout",
     "output_type": "stream",
     "text": [
      "[[1 2 3]\n",
      " [4 5 6]]\n"
     ]
    }
   ],
   "source": [
    "# create matrix\n",
    "from numpy import array\n",
    "A = array([[1, 2, 3], [4, 5, 6]])\n",
    "print(A)"
   ]
  },
  {
   "cell_type": "markdown",
   "metadata": {},
   "source": [
    "### Matrix addition "
   ]
  },
  {
   "cell_type": "code",
   "execution_count": 28,
   "metadata": {},
   "outputs": [
    {
     "name": "stdout",
     "output_type": "stream",
     "text": [
      "Matrix A is : [[1 2 3]\n",
      " [4 5 6]]\n",
      "Matrix B is : [[1 2 3]\n",
      " [4 5 6]]\n",
      " Matrix C = A + B  is : [[ 2  4  6]\n",
      " [ 8 10 12]]\n"
     ]
    }
   ],
   "source": [
    "# matrix addition\n",
    "from numpy import array\n",
    "# define first matrix\n",
    "A = array([\n",
    "[1, 2, 3],\n",
    "[4, 5, 6]])\n",
    "print(\"Matrix A is :\",A)\n",
    "# define second matrix\n",
    "B = array([\n",
    "[1, 2, 3],\n",
    "[4, 5, 6]])\n",
    "print(\"Matrix B is :\", B)\n",
    "# add matrices\n",
    "C = A + B\n",
    "print(\" Matrix C = A + B  is :\", C)"
   ]
  },
  {
   "cell_type": "markdown",
   "metadata": {},
   "source": [
    "###  Matrix subtraction "
   ]
  },
  {
   "cell_type": "code",
   "execution_count": 31,
   "metadata": {},
   "outputs": [
    {
     "name": "stdout",
     "output_type": "stream",
     "text": [
      "Matrix A is  [[1 2 3]\n",
      " [4 5 6]]\n",
      "Matrix B is  [[0.5 0.5 0.5]\n",
      " [0.5 0.5 0.5]]\n",
      "Matrix C = A-B is :  [[0.5 1.5 2.5]\n",
      " [3.5 4.5 5.5]]\n"
     ]
    }
   ],
   "source": [
    "# matrix subtraction\n",
    "from numpy import array\n",
    "# define first matrix\n",
    "A = array([\n",
    "[1, 2, 3],\n",
    "[4, 5, 6]])\n",
    "print(\"Matrix A is \", A)\n",
    "# define second matrix\n",
    "B = array([\n",
    "[0.5, 0.5, 0.5],\n",
    "[0.5, 0.5, 0.5]])\n",
    "print(\"Matrix B is \",B)\n",
    "# subtract matrices\n",
    "C = A - B\n",
    "print(\"Matrix C = A-B is : \",C)"
   ]
  },
  {
   "cell_type": "markdown",
   "metadata": {},
   "source": [
    "### Matrix Multiplication : Element wise : Hadamard product "
   ]
  },
  {
   "cell_type": "code",
   "execution_count": null,
   "metadata": {},
   "outputs": [],
   "source": [
    "# matrix Hadamard product\n",
    "from numpy import array\n",
    "# define first matrix\n",
    "A = array([\n",
    "[1, 2, 3],\n",
    "[4, 5, 6]])\n",
    "print(\"A matrix is : \", A)\n",
    "# define second matrix\n",
    "B = array([\n",
    "[1, 2, 3],\n",
    "[4, 5, 6]])\n",
    "print(\"B matrix is :\",B)\n",
    "# multiply matrices\n",
    "C = A * B\n",
    "print"
   ]
  },
  {
   "cell_type": "markdown",
   "metadata": {},
   "source": [
    "### Matrix Division "
   ]
  },
  {
   "cell_type": "code",
   "execution_count": 33,
   "metadata": {},
   "outputs": [
    {
     "name": "stdout",
     "output_type": "stream",
     "text": [
      "A matrix is :  [[1 2 3]\n",
      " [4 5 6]]\n",
      "B  Matrix is :  [[1 2 3]\n",
      " [4 5 6]]\n",
      "C = A/B [[1. 1. 1.]\n",
      " [1. 1. 1.]]\n"
     ]
    }
   ],
   "source": [
    "# matrix division\n",
    "from numpy import array\n",
    "# define first matrix\n",
    "A = array([\n",
    "[1, 2, 3],\n",
    "[4, 5, 6]])\n",
    "print(\"A matrix is : \",A)\n",
    "# define second matrix\n",
    "B = array([\n",
    "[1, 2, 3],\n",
    "[4, 5, 6]])\n",
    "print(\"B  Matrix is : \",B)\n",
    "# divide matrices\n",
    "C = A / B\n",
    "print(\"C = A/B\", C)"
   ]
  },
  {
   "cell_type": "markdown",
   "metadata": {},
   "source": [
    "### Matrix dot product "
   ]
  },
  {
   "cell_type": "code",
   "execution_count": null,
   "metadata": {},
   "outputs": [],
   "source": [
    "# matrix dot product\n",
    "from numpy import array\n",
    "# define first matrix\n",
    "A = array([\n",
    "[1, 2],\n",
    "[3, 4],\n",
    "[5, 6]])\n",
    "print(A)\n",
    "# define second matrix\n",
    "B = array([\n",
    "[1, 2],\n",
    "[3, 4]])\n",
    "print(B)\n",
    "# multiply matrices\n",
    "C = A.dot(B)\n",
    "print(C)\n",
    "# multiply matrices with @ operator\n",
    "D = A @ B\n",
    "print(D)"
   ]
  },
  {
   "cell_type": "markdown",
   "metadata": {},
   "source": [
    "##  Matrix vector multiplication "
   ]
  },
  {
   "cell_type": "code",
   "execution_count": null,
   "metadata": {},
   "outputs": [],
   "source": [
    "# matrix-vector multiplication\n",
    "from numpy import array\n",
    "# define matrix\n",
    "A = array([\n",
    "[1, 2],\n",
    "[3, 4],\n",
    "[5, 6]])\n",
    "print(\"A  matrix is : \",A)\n",
    "# define vector\n",
    "B = array([0.5, 0.5])\n",
    "print(\" Vector is : \", B)\n",
    "# multiply\n",
    "C = A.dot(B)\n",
    "print(\" C = A dot B is : \",C)"
   ]
  },
  {
   "cell_type": "markdown",
   "metadata": {},
   "source": [
    "###  Matrix Scalar Multiplication "
   ]
  },
  {
   "cell_type": "code",
   "execution_count": 35,
   "metadata": {},
   "outputs": [
    {
     "name": "stdout",
     "output_type": "stream",
     "text": [
      "matrix A is :  [[1 2]\n",
      " [3 4]\n",
      " [5 6]]\n",
      "scalar b is : 0.5\n",
      " C = A*b [[0.5 1. ]\n",
      " [1.5 2. ]\n",
      " [2.5 3. ]]\n"
     ]
    }
   ],
   "source": [
    "# matrix-scalar multiplication\n",
    "from numpy import array\n",
    "# define matrix\n",
    "A = array([[1, 2], [3, 4], [5, 6]])\n",
    "print(\"matrix A is : \", A)\n",
    "# define scalar\n",
    "b = 0.5\n",
    "print(\"scalar b is :\", b)\n",
    "# multiply\n",
    "C = A * b\n",
    "print(\" C = A*b\",C)"
   ]
  },
  {
   "cell_type": "markdown",
   "metadata": {},
   "source": [
    "## Matrix types "
   ]
  },
  {
   "cell_type": "code",
   "execution_count": 37,
   "metadata": {},
   "outputs": [
    {
     "name": "stdout",
     "output_type": "stream",
     "text": [
      " Square matrix M is : \n",
      "  [[1 2 3]\n",
      " [1 2 3]\n",
      " [1 2 3]]\n",
      " Lower triangular is :\n",
      " [[1 0 0]\n",
      " [1 2 0]\n",
      " [1 2 3]]\n",
      " Upper triangular is: \n",
      " [[1 2 3]\n",
      " [0 2 3]\n",
      " [0 0 3]]\n"
     ]
    }
   ],
   "source": [
    "# triangular matrices\n",
    "from numpy import array\n",
    "from numpy import tril\n",
    "from numpy import triu\n",
    "# define square matrix\n",
    "M = array([\n",
    "[1, 2, 3],\n",
    "[1, 2, 3],\n",
    "[1, 2, 3]])\n",
    "print(\" Square matrix M is : \\n \",M)\n",
    "# lower triangular matrix\n",
    "lower = tril(M)\n",
    "print(\" Lower triangular is :\\n\", lower)\n",
    "# upper triangular matrix\n",
    "upper = triu(M)\n",
    "print(\" Upper triangular is: \\n\", upper)\n"
   ]
  },
  {
   "cell_type": "code",
   "execution_count": 39,
   "metadata": {},
   "outputs": [
    {
     "name": "stdout",
     "output_type": "stream",
     "text": [
      "Square matrix M is \n",
      "  [[1 2 3]\n",
      " [1 2 3]\n",
      " [1 2 3]]\n",
      "Diagonal vector is d \n",
      "  [1 2 3]\n",
      "Diagonal matrix is \n",
      " [[1 0 0]\n",
      " [0 2 0]\n",
      " [0 0 3]]\n"
     ]
    }
   ],
   "source": [
    "# diagonal matrix\n",
    "from numpy import array\n",
    "from numpy import diag\n",
    "# define square matrix\n",
    "M = array([\n",
    "[1, 2, 3],\n",
    "[1, 2, 3],\n",
    "[1, 2, 3]])\n",
    "print(\"Square matrix M is \\n \",M)\n",
    "# extract diagonal vector\n",
    "d = diag(M)\n",
    "print(\"Diagonal vector is d \\n \",d)\n",
    "# create diagonal matrix from vector\n",
    "D = diag(d)\n",
    "print(\"Diagonal matrix is \\n\",D)"
   ]
  },
  {
   "cell_type": "code",
   "execution_count": 40,
   "metadata": {},
   "outputs": [
    {
     "name": "stdout",
     "output_type": "stream",
     "text": [
      "Identity matrix is : I \n",
      " [[1. 0. 0.]\n",
      " [0. 1. 0.]\n",
      " [0. 0. 1.]]\n"
     ]
    }
   ],
   "source": [
    "# identity matrix\n",
    "from numpy import identity\n",
    "I = identity(3)\n",
    "print(\"Identity matrix is : I \\n\",I)"
   ]
  },
  {
   "cell_type": "code",
   "execution_count": 44,
   "metadata": {},
   "outputs": [
    {
     "name": "stdout",
     "output_type": "stream",
     "text": [
      "Orthogonal Matrix is : \n",
      " [[ 1  0]\n",
      " [ 0 -1]]\n",
      " Inverse  of Q is : \n",
      "  [[ 1.  0.]\n",
      " [-0. -1.]]\n",
      "Transpose of Q is : \n",
      " [[ 1  0]\n",
      " [ 0 -1]]\n",
      "Q.QT is \n",
      "  [[1 0]\n",
      " [0 1]]\n"
     ]
    }
   ],
   "source": [
    "# orthogonal matrix\n",
    "from numpy import array\n",
    "from numpy.linalg import inv\n",
    "# define orthogonal matrix\n",
    "Q = array([\n",
    "[1, 0],\n",
    "[0, -1]])\n",
    "print(\"Orthogonal Matrix is : \\n\",Q)\n",
    "# inverse equivalence\n",
    "V = inv(Q)\n",
    "print(\" Inverse  of Q is : \\n \",V)\n",
    "# get Transpose \n",
    "QT = Q.T\n",
    "print(\"Transpose of Q is : \\n\",QT)\n",
    "# identity equivalence\n",
    "I = Q.dot(Q.T)\n",
    "print(\"Q.QT is \\n \",I)"
   ]
  },
  {
   "cell_type": "markdown",
   "metadata": {},
   "source": [
    "## Matrix operations "
   ]
  },
  {
   "cell_type": "code",
   "execution_count": 45,
   "metadata": {},
   "outputs": [
    {
     "name": "stdout",
     "output_type": "stream",
     "text": [
      "A is : \n",
      " [[1 2]\n",
      " [3 4]\n",
      " [5 6]]\n",
      "A Transpose is : \n",
      " [[1 3 5]\n",
      " [2 4 6]]\n"
     ]
    }
   ],
   "source": [
    "# transpose matrix\n",
    "from numpy import array\n",
    "# define matrix\n",
    "A = array([\n",
    "[1, 2],\n",
    "[3, 4],\n",
    "[5, 6]])\n",
    "print(\"A is : \\n\",A)\n",
    "# calculate transpose\n",
    "C = A.T\n",
    "print(\"A Transpose is : \\n\",C)"
   ]
  },
  {
   "cell_type": "code",
   "execution_count": 46,
   "metadata": {},
   "outputs": [
    {
     "name": "stdout",
     "output_type": "stream",
     "text": [
      "A matrix is : \n",
      " [[1. 2.]\n",
      " [3. 4.]]\n",
      " B is the inverse of A; B is: \n",
      "  [[-2.   1. ]\n",
      " [ 1.5 -0.5]]\n",
      "A.B is : \n",
      "  [[1.0000000e+00 0.0000000e+00]\n",
      " [8.8817842e-16 1.0000000e+00]]\n"
     ]
    }
   ],
   "source": [
    "# invert matrix\n",
    "from numpy import array\n",
    "from numpy.linalg import inv\n",
    "# define matrix\n",
    "A = array([\n",
    "[1.0, 2.0],\n",
    "[3.0, 4.0]])\n",
    "print(\"A matrix is : \\n\",A)\n",
    "# invert matrix\n",
    "B = inv(A)\n",
    "print(\" B is the inverse of A; B is: \\n \",B)\n",
    "# multiply A and B\n",
    "I = A.dot(B)\n",
    "print(\"A.B is : \\n \",I)"
   ]
  },
  {
   "cell_type": "code",
   "execution_count": 47,
   "metadata": {},
   "outputs": [
    {
     "name": "stdout",
     "output_type": "stream",
     "text": [
      "A matrix is \n",
      " [[1 2 3]\n",
      " [4 5 6]\n",
      " [7 8 9]]\n",
      " Trace of A  is \n",
      " 15\n"
     ]
    }
   ],
   "source": [
    "# matrix trace\n",
    "from numpy import array\n",
    "from numpy import trace\n",
    "# define matrix\n",
    "A = array([\n",
    "[1, 2, 3],\n",
    "[4, 5, 6],\n",
    "[7, 8, 9]])\n",
    "print(\"A matrix is \\n\",A)\n",
    "# calculate trace\n",
    "B = trace(A)\n",
    "print(\" Trace of A  is \\n\",B)"
   ]
  },
  {
   "cell_type": "code",
   "execution_count": 49,
   "metadata": {},
   "outputs": [
    {
     "name": "stdout",
     "output_type": "stream",
     "text": [
      "A matrix is : \n",
      " [[1 2 3]\n",
      " [4 5 6]\n",
      " [7 8 9]]\n",
      "Determinant of A is :  0.0\n"
     ]
    }
   ],
   "source": [
    "# matrix determinant\n",
    "from numpy import array\n",
    "from numpy.linalg import det\n",
    "# define matrix\n",
    "A = array([\n",
    "[1, 2, 3],\n",
    "[4, 5, 6],\n",
    "[7, 8, 9]])\n",
    "print(\"A matrix is : \\n\",A)\n",
    "# calculate determinant\n",
    "B = det(A)\n",
    "print(\"Determinant of A is : \",B)"
   ]
  },
  {
   "cell_type": "code",
   "execution_count": 53,
   "metadata": {},
   "outputs": [
    {
     "name": "stdout",
     "output_type": "stream",
     "text": [
      "First vector is: \n",
      " [1 2 3]\n",
      "Rank of First vector is : \n",
      " 1\n",
      "A zero vector :\n",
      " [0 0 0 0 0]\n",
      "Rank of a zero vector is : \n",
      " 0\n"
     ]
    }
   ],
   "source": [
    "# vector rank\n",
    "from numpy import array\n",
    "from numpy.linalg import matrix_rank\n",
    "# rankn\n",
    "print(\"First vector is: \\n\",v1)\n",
    "vr1 = matrix_rank(v1)\n",
    "print(\"Rank of First vector is : \\n\",vr1)\n",
    "# zero rank\n",
    "v2 = array([0,0,0,0,0])\n",
    "print(\"A zero vector :\\n\", v2)\n",
    "vr2 = matrix_rank(v2)\n",
    "print(\"Rank of a zero vector is : \\n\",vr2)"
   ]
  },
  {
   "cell_type": "code",
   "execution_count": 55,
   "metadata": {},
   "outputs": [
    {
     "name": "stdout",
     "output_type": "stream",
     "text": [
      "matrix M0 is : \n",
      " [[0 0]\n",
      " [0 0]]\n",
      "Rank of M0 is : \n",
      " 0\n",
      "matrix M1 is : \n",
      "  [[1 2]\n",
      " [1 2]]\n",
      "rank of M1 is \n",
      " 1\n",
      "matrix  M2 is :\n",
      " [[1 2]\n",
      " [3 4]]\n",
      "rank of M2 is : \n",
      " 2\n"
     ]
    }
   ],
   "source": [
    "# matrix rank\n",
    "from numpy import array\n",
    "from numpy.linalg import matrix_rank\n",
    "# rank 0\n",
    "M0 = array([\n",
    "[0,0],\n",
    "[0,0]])\n",
    "print(\"matrix M0 is : \\n\",M0)\n",
    "mr0 = matrix_rank(M0)\n",
    "print(\"Rank of M0 is : \\n\",mr0)\n",
    "# rank 1\n",
    "M1 = array([\n",
    "[1,2],\n",
    "[1,2]])\n",
    "print(\"matrix M1 is : \\n \" ,M1)\n",
    "mr1 = matrix_rank(M1)\n",
    "print(\"rank of M1 is \\n\",mr1)\n",
    "# rank 2\n",
    "M2 = array([\n",
    "[1,2],\n",
    "[3,4]])\n",
    "print(\"matrix  M2 is :\\n\",M2)\n",
    "mr2 = matrix_rank(M2)\n",
    "print(\"rank of M2 is : \\n\",mr2)\n"
   ]
  }
 ],
 "metadata": {
  "kernelspec": {
   "display_name": "Python 3",
   "language": "python",
   "name": "python3"
  },
  "language_info": {
   "codemirror_mode": {
    "name": "ipython",
    "version": 3
   },
   "file_extension": ".py",
   "mimetype": "text/x-python",
   "name": "python",
   "nbconvert_exporter": "python",
   "pygments_lexer": "ipython3",
   "version": "3.6.7"
  }
 },
 "nbformat": 4,
 "nbformat_minor": 2
}
